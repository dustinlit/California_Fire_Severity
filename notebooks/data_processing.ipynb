{
 "cells": [
  {
   "cell_type": "markdown",
   "id": "cc9fb176",
   "metadata": {},
   "source": [
    "## Project: Wildfire Destructive Potential Index \n",
    "\n",
    "### Module 1: *Data Processing*\n",
    "\n",
    "---\n",
    "### Contents  \n",
    "- 1. *Data Loading and Exploration* \n",
    "- 2. *Data Cleaning and Merging*\n",
    "- 3. *Data Imputation*\n",
    "- 3. *File Export*\n",
    "---\n",
    "### Notes\n",
    "\n",
    "**Clean and process daily weather readings from California CIMIS irrigation stations (2018-01-01 to 2020-09-18). Integrate wildfire impact data from the same period, including structures damaged/destroyed, fatalities, and acres burned. Also include weather readings related to the following incidents for case study:**\n",
    "\n",
    "- **Palisades and Eaton Fires** (2025-01-07)\\\n",
    "        Palisades - *High damage*, 7810 structures damaged or destroyed, 13 fatalities\\\n",
    "        Eaton Fire - *High damage* 10,488 structures damaged or destroyed, 27 fatalities, 14,021 acres burned\n",
    "- **Dixie Fire** (2021-07-13)\\\n",
    "        *High damage*, 963,309 acres burned, 1405 structures damaged or destroyed, 1 fatality.\n",
    "\n",
    "\n",
    "---\n",
    "### Inputs\n",
    "*Raw Data*\n",
    "- Weather Data - `all_conditions.csv`, `january 2025.csv`, `july 2021.csv`\n",
    "- Fire Data - `damagesv2.csv`\n",
    "- Miscellaneous Data - `i04_CIMIS_Weather_Stations.csv`, `pop_data`, `mean_income` \n",
    "---\n",
    "### Outputs  \n",
    "- `weasther_fire_pop_income.csv` Cleaned weather dataset merged with fire damage severity \n",
    "- `palisades_weather.csv`,`dixie_weather.csv` Cleaned waether datasets for case studies\n",
    "---\n",
    "### User Created Dependencies  "
   ]
  },
  {
   "cell_type": "code",
   "execution_count": 1,
   "id": "010d2160",
   "metadata": {},
   "outputs": [],
   "source": [
    "import os\n",
    "import sys\n",
    "\n",
    "# Allow import of custom modules from the parent directory\n",
    "sys.path.append(os.path.abspath(os.path.join('..')))\n",
    "\n",
    "from src.data_utils import impute_median_data\n",
    "from src.data_utils import impute_missing_rows\n",
    "from src.data_utils import data_explore\n",
    "from src.data_utils import post_merge_check\n",
    "from src.data_utils import identify_missing_station_dates"
   ]
  },
  {
   "cell_type": "markdown",
   "id": "549e2ca0",
   "metadata": {},
   "source": [
    "---\n",
    "### Third Party Dependencies"
   ]
  },
  {
   "cell_type": "code",
   "execution_count": 2,
   "id": "767a00d8",
   "metadata": {},
   "outputs": [],
   "source": [
    "# Data handling\n",
    "import pandas as pd\n",
    "import numpy as np\n",
    "\n",
    "# Geospatial data\n",
    "from shapely.geometry import Point\n",
    "\n",
    "# Plotting (for optional EDA or visual validation)\n",
    "import matplotlib.pyplot as plt\n",
    "import seaborn as sns\n",
    "\n",
    "# Preprocessing and modeling utilities\n",
    "from sklearn.preprocessing import LabelEncoder\n",
    "from sklearn.model_selection import train_test_split\n",
    "\n",
    "import warnings\n",
    "warnings.filterwarnings('ignore')"
   ]
  },
  {
   "cell_type": "markdown",
   "id": "4bae79be",
   "metadata": {},
   "source": [
    "---"
   ]
  },
  {
   "cell_type": "markdown",
   "id": "2ac7cd57",
   "metadata": {},
   "source": [
    "## 1. Data Loading and Exploration"
   ]
  },
  {
   "cell_type": "markdown",
   "id": "80a904ef",
   "metadata": {},
   "source": [
    "### 1.1 CIMIS Historical Weather Data - `all_conditions.csv`\n",
    "\n",
    "This dataset contains daily weather measurements from CIMIS stations across California. Variables include temperature, precipitation, humidity, solar radiation, and wind.\n",
    "\n",
    "**California Environmental Conditions Dataset**  \n",
    "Available at: [https://www.kaggle.com/datasets/thedevastator/california-environmental-conditions](https://www.kaggle.com/datasets/thedevastator/california-environmental-conditions)\n",
    "\n",
    "This dataset was published by **TheDevastator** and includes CIMIS station-level weather observations across California. All rights and usage guidelines are subject to Kaggle's dataset licensing terms."
   ]
  },
  {
   "cell_type": "code",
   "execution_count": 3,
   "id": "b1460a82",
   "metadata": {},
   "outputs": [
    {
     "name": "stdout",
     "output_type": "stream",
     "text": [
      "Duplicates before dropping:  1314 \n",
      "\n",
      "<class 'pandas.core.frame.DataFrame'>\n",
      "Index: 126811 entries, 0 to 128124\n",
      "Data columns (total 18 columns):\n",
      " #   Column                Non-Null Count   Dtype  \n",
      "---  ------                --------------   -----  \n",
      " 0   Stn Id                126811 non-null  int64  \n",
      " 1   Stn Name              126811 non-null  object \n",
      " 2   CIMIS Region          126811 non-null  object \n",
      " 3   Date                  126811 non-null  object \n",
      " 4   ETo (in)              126728 non-null  float64\n",
      " 5   Precip (in)           126811 non-null  float64\n",
      " 6   Sol Rad (Ly/day)      126811 non-null  float64\n",
      " 7   Avg Vap Pres (mBars)  126811 non-null  float64\n",
      " 8   Max Air Temp (F)      126808 non-null  float64\n",
      " 9   Min Air Temp (F)      126810 non-null  float64\n",
      " 10  Avg Air Temp (F)      126806 non-null  float64\n",
      " 11  Max Rel Hum (%)       126811 non-null  float64\n",
      " 12  Min Rel Hum (%)       126811 non-null  float64\n",
      " 13  Avg Rel Hum (%)       126798 non-null  float64\n",
      " 14  Dew Point (F)         126798 non-null  float64\n",
      " 15  Avg Wind Speed (mph)  126811 non-null  float64\n",
      " 16  Wind Run (miles)      126811 non-null  float64\n",
      " 17  Avg Soil Temp (F)     126791 non-null  float64\n",
      "dtypes: float64(14), int64(1), object(3)\n",
      "memory usage: 18.4+ MB\n"
     ]
    },
    {
     "data": {
      "text/html": [
       "<div>\n",
       "<style scoped>\n",
       "    .dataframe tbody tr th:only-of-type {\n",
       "        vertical-align: middle;\n",
       "    }\n",
       "\n",
       "    .dataframe tbody tr th {\n",
       "        vertical-align: top;\n",
       "    }\n",
       "\n",
       "    .dataframe thead th {\n",
       "        text-align: right;\n",
       "    }\n",
       "</style>\n",
       "<table border=\"1\" class=\"dataframe\">\n",
       "  <thead>\n",
       "    <tr style=\"text-align: right;\">\n",
       "      <th></th>\n",
       "      <th>Stn Id</th>\n",
       "      <th>Stn Name</th>\n",
       "      <th>CIMIS Region</th>\n",
       "      <th>Date</th>\n",
       "      <th>ETo (in)</th>\n",
       "      <th>Precip (in)</th>\n",
       "      <th>Sol Rad (Ly/day)</th>\n",
       "      <th>Avg Vap Pres (mBars)</th>\n",
       "      <th>Max Air Temp (F)</th>\n",
       "      <th>Min Air Temp (F)</th>\n",
       "      <th>Avg Air Temp (F)</th>\n",
       "      <th>Max Rel Hum (%)</th>\n",
       "      <th>Min Rel Hum (%)</th>\n",
       "      <th>Avg Rel Hum (%)</th>\n",
       "      <th>Dew Point (F)</th>\n",
       "      <th>Avg Wind Speed (mph)</th>\n",
       "      <th>Wind Run (miles)</th>\n",
       "      <th>Avg Soil Temp (F)</th>\n",
       "    </tr>\n",
       "  </thead>\n",
       "  <tbody>\n",
       "    <tr>\n",
       "      <th>0</th>\n",
       "      <td>2</td>\n",
       "      <td>FivePoints</td>\n",
       "      <td>San Joaquin Valley</td>\n",
       "      <td>2018-01-01 00:00:00</td>\n",
       "      <td>0.06</td>\n",
       "      <td>0.0</td>\n",
       "      <td>219.0</td>\n",
       "      <td>7.3</td>\n",
       "      <td>63.4</td>\n",
       "      <td>35.3</td>\n",
       "      <td>47.8</td>\n",
       "      <td>82.0</td>\n",
       "      <td>46.0</td>\n",
       "      <td>65.0</td>\n",
       "      <td>36.6</td>\n",
       "      <td>3.3</td>\n",
       "      <td>78.3</td>\n",
       "      <td>51.1</td>\n",
       "    </tr>\n",
       "    <tr>\n",
       "      <th>1</th>\n",
       "      <td>2</td>\n",
       "      <td>FivePoints</td>\n",
       "      <td>San Joaquin Valley</td>\n",
       "      <td>2018-01-02 00:00:00</td>\n",
       "      <td>0.04</td>\n",
       "      <td>0.0</td>\n",
       "      <td>127.0</td>\n",
       "      <td>7.4</td>\n",
       "      <td>59.8</td>\n",
       "      <td>37.7</td>\n",
       "      <td>47.2</td>\n",
       "      <td>80.0</td>\n",
       "      <td>52.0</td>\n",
       "      <td>67.0</td>\n",
       "      <td>36.7</td>\n",
       "      <td>3.1</td>\n",
       "      <td>74.5</td>\n",
       "      <td>51.3</td>\n",
       "    </tr>\n",
       "    <tr>\n",
       "      <th>2</th>\n",
       "      <td>2</td>\n",
       "      <td>FivePoints</td>\n",
       "      <td>San Joaquin Valley</td>\n",
       "      <td>2018-01-03 00:00:00</td>\n",
       "      <td>0.04</td>\n",
       "      <td>0.0</td>\n",
       "      <td>125.0</td>\n",
       "      <td>8.4</td>\n",
       "      <td>61.1</td>\n",
       "      <td>37.3</td>\n",
       "      <td>49.9</td>\n",
       "      <td>79.0</td>\n",
       "      <td>49.0</td>\n",
       "      <td>68.0</td>\n",
       "      <td>39.9</td>\n",
       "      <td>4.5</td>\n",
       "      <td>107.5</td>\n",
       "      <td>51.3</td>\n",
       "    </tr>\n",
       "  </tbody>\n",
       "</table>\n",
       "</div>"
      ],
      "text/plain": [
       "   Stn Id    Stn Name        CIMIS Region                 Date  ETo (in)  \\\n",
       "0       2  FivePoints  San Joaquin Valley  2018-01-01 00:00:00      0.06   \n",
       "1       2  FivePoints  San Joaquin Valley  2018-01-02 00:00:00      0.04   \n",
       "2       2  FivePoints  San Joaquin Valley  2018-01-03 00:00:00      0.04   \n",
       "\n",
       "   Precip (in)  Sol Rad (Ly/day)  Avg Vap Pres (mBars)  Max Air Temp (F)  \\\n",
       "0          0.0             219.0                   7.3              63.4   \n",
       "1          0.0             127.0                   7.4              59.8   \n",
       "2          0.0             125.0                   8.4              61.1   \n",
       "\n",
       "   Min Air Temp (F)  Avg Air Temp (F)  Max Rel Hum (%)  Min Rel Hum (%)  \\\n",
       "0              35.3              47.8             82.0             46.0   \n",
       "1              37.7              47.2             80.0             52.0   \n",
       "2              37.3              49.9             79.0             49.0   \n",
       "\n",
       "   Avg Rel Hum (%)  Dew Point (F)  Avg Wind Speed (mph)  Wind Run (miles)  \\\n",
       "0             65.0           36.6                   3.3              78.3   \n",
       "1             67.0           36.7                   3.1              74.5   \n",
       "2             68.0           39.9                   4.5             107.5   \n",
       "\n",
       "   Avg Soil Temp (F)  \n",
       "0               51.1  \n",
       "1               51.3  \n",
       "2               51.3  "
      ]
     },
     "execution_count": 3,
     "metadata": {},
     "output_type": "execute_result"
    }
   ],
   "source": [
    "weather = pd.read_csv(\"../data/raw/all_conditions.csv\")\n",
    "weather.loc[:, 'Date'] = pd.to_datetime(weather['Date'], format='mixed')\n",
    "weather = weather.drop(columns='Target')\n",
    "weather = data_explore(weather)\n",
    "weather.head(3)"
   ]
  },
  {
   "cell_type": "code",
   "execution_count": 4,
   "id": "b83e635b",
   "metadata": {},
   "outputs": [
    {
     "data": {
      "text/plain": [
       "Timestamp('2018-01-01 00:00:00')"
      ]
     },
     "execution_count": 4,
     "metadata": {},
     "output_type": "execute_result"
    }
   ],
   "source": [
    "weather['Date'].min()"
   ]
  },
  {
   "cell_type": "code",
   "execution_count": 5,
   "id": "f016aa64",
   "metadata": {},
   "outputs": [
    {
     "data": {
      "text/plain": [
       "Timestamp('2020-09-18 00:00:00')"
      ]
     },
     "execution_count": 5,
     "metadata": {},
     "output_type": "execute_result"
    }
   ],
   "source": [
    "weather['Date'].max()"
   ]
  },
  {
   "cell_type": "markdown",
   "id": "a8c273c9",
   "metadata": {},
   "source": [
    "**initial observations:**\n",
    "- The dataset contains `128,125` rows and `19` columns.\n",
    "- `Date` column is currently a string object, conversion to date format is neccessary\n",
    "- various columns contain `NULL` values\n",
    "- `Target` variable was for risk of fire starting experiment, this will be replaced with a severity index so it is dropped"
   ]
  },
  {
   "cell_type": "markdown",
   "id": "3e7eeada",
   "metadata": {},
   "source": [
    "### 1.2 Wildfire Damage Data - `damagesv2.csv`\n",
    "\n",
    "Provides severity information from historical recorded wildfires that are used to construct the classification target (low, medium, high) for model training and evaluation. Data was compiled from external team sources and structured for analysis. Relevant variables include:\n",
    "- `Start` - Date fire started\n",
    "- `Cont.` - Date fire contained\n",
    "- `Total` - Total acres burned\n",
    "- `Dam`,`Dest.` - Structures damaged and destroyed\n",
    "- `Fire`, `Civil` - Firefighter and Civilian Casualties\n",
    "\n",
    "Source: [CAL FIRE – Fire Incidents](https://www.fire.ca.gov/)  \n",
    "This data was manually extracted and structured from publicly available incident records for analytical use."
   ]
  },
  {
   "cell_type": "code",
   "execution_count": 6,
   "id": "707ca9b8",
   "metadata": {},
   "outputs": [
    {
     "name": "stdout",
     "output_type": "stream",
     "text": [
      "Duplicates before dropping:  4 \n",
      "\n",
      "<class 'pandas.core.frame.DataFrame'>\n",
      "Index: 274 entries, 0 to 277\n",
      "Data columns (total 13 columns):\n",
      " #   Column      Non-Null Count  Dtype \n",
      "---  ------      --------------  ----- \n",
      " 0   Incident #  274 non-null    object\n",
      " 1   County      274 non-null    object\n",
      " 2   Fire Name   274 non-null    object\n",
      " 3   Start       274 non-null    object\n",
      " 4   Cont.       274 non-null    object\n",
      " 5   DPA         274 non-null    object\n",
      " 6   Total       274 non-null    object\n",
      " 7   Type        274 non-null    object\n",
      " 8   Cause       274 non-null    object\n",
      " 9   Dest.       122 non-null    object\n",
      " 10  Dam.        85 non-null     object\n",
      " 11  Fire        25 non-null     object\n",
      " 12  Civil       1 non-null      object\n",
      "dtypes: object(13)\n",
      "memory usage: 30.0+ KB\n"
     ]
    }
   ],
   "source": [
    "fire_damage = pd.read_csv(\"../data/raw/damagesv2.csv\")\n",
    "fire_damage = data_explore(fire_damage)"
   ]
  },
  {
   "cell_type": "code",
   "execution_count": 7,
   "id": "03442a50",
   "metadata": {},
   "outputs": [
    {
     "data": {
      "text/html": [
       "<div>\n",
       "<style scoped>\n",
       "    .dataframe tbody tr th:only-of-type {\n",
       "        vertical-align: middle;\n",
       "    }\n",
       "\n",
       "    .dataframe tbody tr th {\n",
       "        vertical-align: top;\n",
       "    }\n",
       "\n",
       "    .dataframe thead th {\n",
       "        text-align: right;\n",
       "    }\n",
       "</style>\n",
       "<table border=\"1\" class=\"dataframe\">\n",
       "  <thead>\n",
       "    <tr style=\"text-align: right;\">\n",
       "      <th></th>\n",
       "      <th>Incident #</th>\n",
       "      <th>County</th>\n",
       "      <th>Fire Name</th>\n",
       "      <th>Start</th>\n",
       "      <th>Cont.</th>\n",
       "      <th>DPA</th>\n",
       "      <th>Total</th>\n",
       "      <th>Type</th>\n",
       "      <th>Cause</th>\n",
       "      <th>Dest.</th>\n",
       "      <th>Dam.</th>\n",
       "      <th>Fire</th>\n",
       "      <th>Civil</th>\n",
       "    </tr>\n",
       "  </thead>\n",
       "  <tbody>\n",
       "    <tr>\n",
       "      <th>265</th>\n",
       "      <td>SNF-1392*</td>\n",
       "      <td>MERCED</td>\n",
       "      <td>CREEK</td>\n",
       "      <td>09/04/20</td>\n",
       "      <td>12/31/20</td>\n",
       "      <td>USFS</td>\n",
       "      <td>379,895</td>\n",
       "      <td>T</td>\n",
       "      <td>UNDETERMINED</td>\n",
       "      <td>858</td>\n",
       "      <td>71</td>\n",
       "      <td>NaN</td>\n",
       "      <td>NaN</td>\n",
       "    </tr>\n",
       "    <tr>\n",
       "      <th>240</th>\n",
       "      <td>SNF-1160</td>\n",
       "      <td>FRESNO</td>\n",
       "      <td>TRIMMER</td>\n",
       "      <td>08/03/20</td>\n",
       "      <td>09/01/20</td>\n",
       "      <td>USFS</td>\n",
       "      <td>594</td>\n",
       "      <td>B, T</td>\n",
       "      <td>UNDETERMINED</td>\n",
       "      <td>NaN</td>\n",
       "      <td>NaN</td>\n",
       "      <td>NaN</td>\n",
       "      <td>NaN</td>\n",
       "    </tr>\n",
       "    <tr>\n",
       "      <th>228</th>\n",
       "      <td>NOD-3218</td>\n",
       "      <td>LASSEN</td>\n",
       "      <td>R-2</td>\n",
       "      <td>06/23/20</td>\n",
       "      <td>06/25/20</td>\n",
       "      <td>BLM</td>\n",
       "      <td>563</td>\n",
       "      <td>B, G</td>\n",
       "      <td>UNDETERMINED</td>\n",
       "      <td>NaN</td>\n",
       "      <td>NaN</td>\n",
       "      <td>NaN</td>\n",
       "      <td>NaN</td>\n",
       "    </tr>\n",
       "  </tbody>\n",
       "</table>\n",
       "</div>"
      ],
      "text/plain": [
       "     Incident #   County Fire Name      Start      Cont.    DPA     Total  \\\n",
       "265  SNF-1392*   MERCED     CREEK   09/04/20   12/31/20   USFS   379,895    \n",
       "240   SNF-1160   FRESNO   TRIMMER   08/03/20   09/01/20   USFS       594    \n",
       "228   NOD-3218   LASSEN       R-2   06/23/20   06/25/20    BLM       563    \n",
       "\n",
       "      Type          Cause Dest. Dam. Fire Civil  \n",
       "265     T   UNDETERMINED   858   71   NaN   NaN  \n",
       "240  B, T   UNDETERMINED    NaN  NaN  NaN   NaN  \n",
       "228  B, G   UNDETERMINED    NaN  NaN  NaN   NaN  "
      ]
     },
     "execution_count": 7,
     "metadata": {},
     "output_type": "execute_result"
    }
   ],
   "source": [
    "fire_damage.sample(3)"
   ]
  },
  {
   "cell_type": "markdown",
   "id": "d3a84dd5",
   "metadata": {},
   "source": [
    "**initial observations:**\n",
    "- The dataset contains `278` rows and `13` columns.\n",
    "- all variables are of object type, most will need to be converted to numeric\n",
    "- `NAN` values present in last 4 columns represent fires with no structural damage or casualties.\n",
    "- commas in `Total` column may cause issues"
   ]
  },
  {
   "cell_type": "markdown",
   "id": "11dcd61f",
   "metadata": {},
   "source": [
    "### 1.3 Fire Station Metadata - `i04_CIMIS_Weather_Stations.csv`\n",
    "\n",
    "Contains geographic and descriptive information for all relevant CIMIS weather stations in California. The dataset includes spatial data. including `latitude`, `longitude`, `station ID`, `elevation`, and `regional information`. These are merged with the weather readings to analyze regional weather trends and mapping results.\n",
    "\n",
    "Source: [California Department of Water Resources – CIMIS](https://cimis.water.ca.gov/)  \n",
    "Accessed and processed in accordance with public data use policies."
   ]
  },
  {
   "cell_type": "code",
   "execution_count": 8,
   "id": "e462fcb9",
   "metadata": {},
   "outputs": [
    {
     "name": "stdout",
     "output_type": "stream",
     "text": [
      "Duplicates before dropping:  0 \n",
      "\n",
      "<class 'pandas.core.frame.DataFrame'>\n",
      "RangeIndex: 267 entries, 0 to 266\n",
      "Data columns (total 18 columns):\n",
      " #   Column                Non-Null Count  Dtype  \n",
      "---  ------                --------------  -----  \n",
      " 0   X                     267 non-null    float64\n",
      " 1   Y                     267 non-null    float64\n",
      " 2   OBJECTID              267 non-null    int64  \n",
      " 3   Name                  267 non-null    object \n",
      " 4   County                267 non-null    object \n",
      " 5   Latitude              267 non-null    float64\n",
      " 6   Longitude             267 non-null    float64\n",
      " 7   Status                267 non-null    object \n",
      " 8   Date_Data_Refers_To   267 non-null    object \n",
      " 9   Comments              0 non-null      float64\n",
      " 10  Source                267 non-null    object \n",
      " 11  Last_Modified_Date    267 non-null    object \n",
      " 12  ID                    267 non-null    int64  \n",
      " 13  DWR_Regional_Office_  267 non-null    object \n",
      " 14  Elevation             267 non-null    int64  \n",
      " 15  Connect               267 non-null    object \n",
      " 16  Disconnect            267 non-null    object \n",
      " 17  Last_Modified_By      267 non-null    object \n",
      "dtypes: float64(5), int64(3), object(10)\n",
      "memory usage: 37.7+ KB\n"
     ]
    },
    {
     "data": {
      "text/html": [
       "<div>\n",
       "<style scoped>\n",
       "    .dataframe tbody tr th:only-of-type {\n",
       "        vertical-align: middle;\n",
       "    }\n",
       "\n",
       "    .dataframe tbody tr th {\n",
       "        vertical-align: top;\n",
       "    }\n",
       "\n",
       "    .dataframe thead th {\n",
       "        text-align: right;\n",
       "    }\n",
       "</style>\n",
       "<table border=\"1\" class=\"dataframe\">\n",
       "  <thead>\n",
       "    <tr style=\"text-align: right;\">\n",
       "      <th></th>\n",
       "      <th>X</th>\n",
       "      <th>Y</th>\n",
       "      <th>OBJECTID</th>\n",
       "      <th>Name</th>\n",
       "      <th>County</th>\n",
       "      <th>Latitude</th>\n",
       "      <th>Longitude</th>\n",
       "      <th>Status</th>\n",
       "      <th>Date_Data_Refers_To</th>\n",
       "      <th>Comments</th>\n",
       "      <th>Source</th>\n",
       "      <th>Last_Modified_Date</th>\n",
       "      <th>ID</th>\n",
       "      <th>DWR_Regional_Office_</th>\n",
       "      <th>Elevation</th>\n",
       "      <th>Connect</th>\n",
       "      <th>Disconnect</th>\n",
       "      <th>Last_Modified_By</th>\n",
       "    </tr>\n",
       "  </thead>\n",
       "  <tbody>\n",
       "    <tr>\n",
       "      <th>0</th>\n",
       "      <td>-119.732000</td>\n",
       "      <td>36.814000</td>\n",
       "      <td>1</td>\n",
       "      <td>Fresno/F.S.U. USDA</td>\n",
       "      <td>Fresno</td>\n",
       "      <td>36.814000</td>\n",
       "      <td>-119.732000</td>\n",
       "      <td>Inactive</td>\n",
       "      <td>2023/02/08 00:00:00+00</td>\n",
       "      <td>NaN</td>\n",
       "      <td>CIMIS, DWR</td>\n",
       "      <td>2023/02/09 00:00:00+00</td>\n",
       "      <td>1</td>\n",
       "      <td>SCRO</td>\n",
       "      <td>340</td>\n",
       "      <td>1982/06/07 00:00:00+00</td>\n",
       "      <td>9/25/1988</td>\n",
       "      <td>AU, GDSS</td>\n",
       "    </tr>\n",
       "    <tr>\n",
       "      <th>1</th>\n",
       "      <td>-120.112906</td>\n",
       "      <td>36.336222</td>\n",
       "      <td>2</td>\n",
       "      <td>Five Points</td>\n",
       "      <td>Fresno</td>\n",
       "      <td>36.336222</td>\n",
       "      <td>-120.112906</td>\n",
       "      <td>Active</td>\n",
       "      <td>2023/02/08 00:00:00+00</td>\n",
       "      <td>NaN</td>\n",
       "      <td>CIMIS, DWR</td>\n",
       "      <td>2023/02/09 00:00:00+00</td>\n",
       "      <td>2</td>\n",
       "      <td>SCRO</td>\n",
       "      <td>285</td>\n",
       "      <td>1982/06/07 00:00:00+00</td>\n",
       "      <td>Active</td>\n",
       "      <td>AU, GDSS</td>\n",
       "    </tr>\n",
       "    <tr>\n",
       "      <th>2</th>\n",
       "      <td>-121.793000</td>\n",
       "      <td>36.881000</td>\n",
       "      <td>3</td>\n",
       "      <td>Beach /Santa Cruz CO</td>\n",
       "      <td>Santa Cruz</td>\n",
       "      <td>36.881000</td>\n",
       "      <td>-121.793000</td>\n",
       "      <td>Inactive</td>\n",
       "      <td>2023/02/08 00:00:00+00</td>\n",
       "      <td>NaN</td>\n",
       "      <td>CIMIS, DWR</td>\n",
       "      <td>2023/02/09 00:00:00+00</td>\n",
       "      <td>3</td>\n",
       "      <td>SCRO</td>\n",
       "      <td>10</td>\n",
       "      <td>1982/05/30 00:00:00+00</td>\n",
       "      <td>8/25/1986</td>\n",
       "      <td>AU, GDSS</td>\n",
       "    </tr>\n",
       "  </tbody>\n",
       "</table>\n",
       "</div>"
      ],
      "text/plain": [
       "            X          Y  OBJECTID                  Name      County  \\\n",
       "0 -119.732000  36.814000         1    Fresno/F.S.U. USDA      Fresno   \n",
       "1 -120.112906  36.336222         2         Five Points        Fresno   \n",
       "2 -121.793000  36.881000         3  Beach /Santa Cruz CO  Santa Cruz   \n",
       "\n",
       "    Latitude   Longitude    Status     Date_Data_Refers_To  Comments  \\\n",
       "0  36.814000 -119.732000  Inactive  2023/02/08 00:00:00+00       NaN   \n",
       "1  36.336222 -120.112906    Active  2023/02/08 00:00:00+00       NaN   \n",
       "2  36.881000 -121.793000  Inactive  2023/02/08 00:00:00+00       NaN   \n",
       "\n",
       "       Source      Last_Modified_Date  ID DWR_Regional_Office_  Elevation  \\\n",
       "0  CIMIS, DWR  2023/02/09 00:00:00+00   1                 SCRO        340   \n",
       "1  CIMIS, DWR  2023/02/09 00:00:00+00   2                 SCRO        285   \n",
       "2  CIMIS, DWR  2023/02/09 00:00:00+00   3                 SCRO         10   \n",
       "\n",
       "                  Connect Disconnect Last_Modified_By  \n",
       "0  1982/06/07 00:00:00+00  9/25/1988         AU, GDSS  \n",
       "1  1982/06/07 00:00:00+00     Active         AU, GDSS  \n",
       "2  1982/05/30 00:00:00+00  8/25/1986         AU, GDSS  "
      ]
     },
     "execution_count": 8,
     "metadata": {},
     "output_type": "execute_result"
    }
   ],
   "source": [
    "stations = pd.read_csv(\"../data/raw/i04_CIMIS_Weather_Stations.csv\")\n",
    "stations = data_explore(stations)\n",
    "stations.head(3)"
   ]
  },
  {
   "cell_type": "markdown",
   "id": "c508a2a9",
   "metadata": {},
   "source": [
    "**initial observations:**\n",
    "- `OBJECTID` represents station ID to match with CIMIS data\n",
    "- `County`, `Latitude`, `Longitude`, `Elevation` only variables needed from this dataset and all appear to have zero null values.\n",
    "- `County` field is different case than damages dataset."
   ]
  },
  {
   "cell_type": "markdown",
   "id": "e9e5b29d",
   "metadata": {},
   "source": [
    "### 1.4 Palisades FIre Weather - `january 2025.csv`\n",
    "\n",
    "CIMIS weather data extracted from the month of the Palisades fire in California in 2025. This data is used to test the predictive power of the models on fresh data.\n",
    "\n",
    "Source: [California Department of Water Resources – CIMIS](https://cimis.water.ca.gov/)  \n",
    "Accessed and processed in accordance with public data use policies."
   ]
  },
  {
   "cell_type": "code",
   "execution_count": 9,
   "id": "7db1f0a7",
   "metadata": {},
   "outputs": [
    {
     "name": "stdout",
     "output_type": "stream",
     "text": [
      "Duplicates before dropping:  0 \n",
      "\n",
      "<class 'pandas.core.frame.DataFrame'>\n",
      "RangeIndex: 4464 entries, 0 to 4463\n",
      "Data columns (total 19 columns):\n",
      " #   Column                Non-Null Count  Dtype  \n",
      "---  ------                --------------  -----  \n",
      " 0   Stn Id                4464 non-null   object \n",
      " 1   Stn Name              4464 non-null   object \n",
      " 2   CIMIS Region          4464 non-null   object \n",
      " 3   Date                  4464 non-null   object \n",
      " 4   Jul                   4464 non-null   float64\n",
      " 5   ETo (in)              3881 non-null   float64\n",
      " 6   Precip (in)           4429 non-null   float64\n",
      " 7   Sol Rad (Ly/day)      4429 non-null   float64\n",
      " 8   Avg Vap Pres (mBars)  4429 non-null   float64\n",
      " 9   Max Air Temp (F)      4429 non-null   float64\n",
      " 10  Min Air Temp (F)      4429 non-null   float64\n",
      " 11  Avg Air Temp (F)      4429 non-null   float64\n",
      " 12  Max Rel Hum (%)       4429 non-null   float64\n",
      " 13  Min Rel Hum (%)       4429 non-null   float64\n",
      " 14  Avg Rel Hum (%)       4428 non-null   float64\n",
      " 15  Dew Point (F)         4428 non-null   float64\n",
      " 16  Avg Wind Speed (mph)  4429 non-null   float64\n",
      " 17  Wind Run (miles)      4429 non-null   float64\n",
      " 18  Avg Soil Temp (F)     4294 non-null   float64\n",
      "dtypes: float64(15), object(4)\n",
      "memory usage: 662.8+ KB\n"
     ]
    },
    {
     "data": {
      "text/html": [
       "<div>\n",
       "<style scoped>\n",
       "    .dataframe tbody tr th:only-of-type {\n",
       "        vertical-align: middle;\n",
       "    }\n",
       "\n",
       "    .dataframe tbody tr th {\n",
       "        vertical-align: top;\n",
       "    }\n",
       "\n",
       "    .dataframe thead th {\n",
       "        text-align: right;\n",
       "    }\n",
       "</style>\n",
       "<table border=\"1\" class=\"dataframe\">\n",
       "  <thead>\n",
       "    <tr style=\"text-align: right;\">\n",
       "      <th></th>\n",
       "      <th>Stn Id</th>\n",
       "      <th>Stn Name</th>\n",
       "      <th>CIMIS Region</th>\n",
       "      <th>Date</th>\n",
       "      <th>Jul</th>\n",
       "      <th>ETo (in)</th>\n",
       "      <th>Precip (in)</th>\n",
       "      <th>Sol Rad (Ly/day)</th>\n",
       "      <th>Avg Vap Pres (mBars)</th>\n",
       "      <th>Max Air Temp (F)</th>\n",
       "      <th>Min Air Temp (F)</th>\n",
       "      <th>Avg Air Temp (F)</th>\n",
       "      <th>Max Rel Hum (%)</th>\n",
       "      <th>Min Rel Hum (%)</th>\n",
       "      <th>Avg Rel Hum (%)</th>\n",
       "      <th>Dew Point (F)</th>\n",
       "      <th>Avg Wind Speed (mph)</th>\n",
       "      <th>Wind Run (miles)</th>\n",
       "      <th>Avg Soil Temp (F)</th>\n",
       "    </tr>\n",
       "  </thead>\n",
       "  <tbody>\n",
       "    <tr>\n",
       "      <th>0</th>\n",
       "      <td>2</td>\n",
       "      <td>FivePoints</td>\n",
       "      <td>San Joaquin Valley</td>\n",
       "      <td>1/1/2025</td>\n",
       "      <td>1.0</td>\n",
       "      <td>0.04</td>\n",
       "      <td>0.0</td>\n",
       "      <td>182.0</td>\n",
       "      <td>8.0</td>\n",
       "      <td>60.2</td>\n",
       "      <td>33.0</td>\n",
       "      <td>45.5</td>\n",
       "      <td>91.0</td>\n",
       "      <td>57.0</td>\n",
       "      <td>77.0</td>\n",
       "      <td>38.7</td>\n",
       "      <td>3.5</td>\n",
       "      <td>83.6</td>\n",
       "      <td>51.0</td>\n",
       "    </tr>\n",
       "    <tr>\n",
       "      <th>1</th>\n",
       "      <td>2</td>\n",
       "      <td>FivePoints</td>\n",
       "      <td>San Joaquin Valley</td>\n",
       "      <td>1/2/2025</td>\n",
       "      <td>2.0</td>\n",
       "      <td>0.05</td>\n",
       "      <td>0.0</td>\n",
       "      <td>201.0</td>\n",
       "      <td>8.2</td>\n",
       "      <td>62.3</td>\n",
       "      <td>33.6</td>\n",
       "      <td>46.8</td>\n",
       "      <td>94.0</td>\n",
       "      <td>49.0</td>\n",
       "      <td>76.0</td>\n",
       "      <td>39.5</td>\n",
       "      <td>3.1</td>\n",
       "      <td>73.3</td>\n",
       "      <td>50.7</td>\n",
       "    </tr>\n",
       "    <tr>\n",
       "      <th>2</th>\n",
       "      <td>2</td>\n",
       "      <td>FivePoints</td>\n",
       "      <td>San Joaquin Valley</td>\n",
       "      <td>1/3/2025</td>\n",
       "      <td>3.0</td>\n",
       "      <td>0.03</td>\n",
       "      <td>0.0</td>\n",
       "      <td>102.0</td>\n",
       "      <td>10.3</td>\n",
       "      <td>60.1</td>\n",
       "      <td>42.8</td>\n",
       "      <td>49.6</td>\n",
       "      <td>94.0</td>\n",
       "      <td>61.0</td>\n",
       "      <td>85.0</td>\n",
       "      <td>45.2</td>\n",
       "      <td>6.0</td>\n",
       "      <td>144.3</td>\n",
       "      <td>50.8</td>\n",
       "    </tr>\n",
       "  </tbody>\n",
       "</table>\n",
       "</div>"
      ],
      "text/plain": [
       "  Stn Id    Stn Name        CIMIS Region      Date  Jul  ETo (in)  \\\n",
       "0      2  FivePoints  San Joaquin Valley  1/1/2025  1.0      0.04   \n",
       "1      2  FivePoints  San Joaquin Valley  1/2/2025  2.0      0.05   \n",
       "2      2  FivePoints  San Joaquin Valley  1/3/2025  3.0      0.03   \n",
       "\n",
       "   Precip (in)  Sol Rad (Ly/day)  Avg Vap Pres (mBars)  Max Air Temp (F)  \\\n",
       "0          0.0             182.0                   8.0              60.2   \n",
       "1          0.0             201.0                   8.2              62.3   \n",
       "2          0.0             102.0                  10.3              60.1   \n",
       "\n",
       "   Min Air Temp (F)  Avg Air Temp (F)  Max Rel Hum (%)  Min Rel Hum (%)  \\\n",
       "0              33.0              45.5             91.0             57.0   \n",
       "1              33.6              46.8             94.0             49.0   \n",
       "2              42.8              49.6             94.0             61.0   \n",
       "\n",
       "   Avg Rel Hum (%)  Dew Point (F)  Avg Wind Speed (mph)  Wind Run (miles)  \\\n",
       "0             77.0           38.7                   3.5              83.6   \n",
       "1             76.0           39.5                   3.1              73.3   \n",
       "2             85.0           45.2                   6.0             144.3   \n",
       "\n",
       "   Avg Soil Temp (F)  \n",
       "0               51.0  \n",
       "1               50.7  \n",
       "2               50.8  "
      ]
     },
     "execution_count": 9,
     "metadata": {},
     "output_type": "execute_result"
    }
   ],
   "source": [
    "palisades_weather = pd.read_csv(\"../data/raw/january 2025.csv\")\n",
    "palisades_weather = palisades_weather.iloc[:-1]\n",
    "palisades_weather = data_explore(palisades_weather)\n",
    "palisades_weather.loc[:, 'Stn Id'] = pd.to_numeric(palisades_weather['Stn Id'])\n",
    "palisades_weather.head(3)"
   ]
  },
  {
   "cell_type": "markdown",
   "id": "441d3739",
   "metadata": {},
   "source": [
    "**initial observations:**\n",
    "- `Stn Id` converted from object to number for merge"
   ]
  },
  {
   "cell_type": "markdown",
   "id": "39ca9c23",
   "metadata": {},
   "source": [
    "### 1.5 Dixie Fire Weather - `july 2021.csv`\n",
    "\n",
    "This dataset includes daily weather data from July 2021, corresponding to the Dixie Fire. It is used to evaluate how accurately the model can classify severity based on known conditions.\n",
    "\n",
    "Source: [California Department of Water Resources – CIMIS](https://cimis.water.ca.gov/)  \n",
    "Accessed and processed in accordance with public data use policies."
   ]
  },
  {
   "cell_type": "code",
   "execution_count": 10,
   "id": "72d5525f",
   "metadata": {},
   "outputs": [
    {
     "name": "stdout",
     "output_type": "stream",
     "text": [
      "Duplicates before dropping:  0 \n",
      "\n",
      "<class 'pandas.core.frame.DataFrame'>\n",
      "RangeIndex: 4448 entries, 0 to 4447\n",
      "Data columns (total 19 columns):\n",
      " #   Column                Non-Null Count  Dtype  \n",
      "---  ------                --------------  -----  \n",
      " 0   Stn Id                4448 non-null   object \n",
      " 1   Stn Name              4448 non-null   object \n",
      " 2   CIMIS Region          4448 non-null   object \n",
      " 3   Date                  4448 non-null   object \n",
      " 4   Jul                   4448 non-null   float64\n",
      " 5   ETo (in)              4128 non-null   float64\n",
      " 6   Precip (in)           4448 non-null   float64\n",
      " 7   Sol Rad (Ly/day)      4448 non-null   float64\n",
      " 8   Avg Vap Pres (mBars)  4433 non-null   float64\n",
      " 9   Max Air Temp (F)      4406 non-null   float64\n",
      " 10  Min Air Temp (F)      4433 non-null   float64\n",
      " 11  Avg Air Temp (F)      4445 non-null   float64\n",
      " 12  Max Rel Hum (%)       4448 non-null   float64\n",
      " 13  Min Rel Hum (%)       4448 non-null   float64\n",
      " 14  Avg Rel Hum (%)       4398 non-null   float64\n",
      " 15  Dew Point (F)         4398 non-null   float64\n",
      " 16  Avg Wind Speed (mph)  4448 non-null   float64\n",
      " 17  Wind Run (miles)      4448 non-null   float64\n",
      " 18  Avg Soil Temp (F)     4248 non-null   float64\n",
      "dtypes: float64(15), object(4)\n",
      "memory usage: 660.4+ KB\n"
     ]
    },
    {
     "data": {
      "text/html": [
       "<div>\n",
       "<style scoped>\n",
       "    .dataframe tbody tr th:only-of-type {\n",
       "        vertical-align: middle;\n",
       "    }\n",
       "\n",
       "    .dataframe tbody tr th {\n",
       "        vertical-align: top;\n",
       "    }\n",
       "\n",
       "    .dataframe thead th {\n",
       "        text-align: right;\n",
       "    }\n",
       "</style>\n",
       "<table border=\"1\" class=\"dataframe\">\n",
       "  <thead>\n",
       "    <tr style=\"text-align: right;\">\n",
       "      <th></th>\n",
       "      <th>Stn Id</th>\n",
       "      <th>Stn Name</th>\n",
       "      <th>CIMIS Region</th>\n",
       "      <th>Date</th>\n",
       "      <th>Jul</th>\n",
       "      <th>ETo (in)</th>\n",
       "      <th>Precip (in)</th>\n",
       "      <th>Sol Rad (Ly/day)</th>\n",
       "      <th>Avg Vap Pres (mBars)</th>\n",
       "      <th>Max Air Temp (F)</th>\n",
       "      <th>Min Air Temp (F)</th>\n",
       "      <th>Avg Air Temp (F)</th>\n",
       "      <th>Max Rel Hum (%)</th>\n",
       "      <th>Min Rel Hum (%)</th>\n",
       "      <th>Avg Rel Hum (%)</th>\n",
       "      <th>Dew Point (F)</th>\n",
       "      <th>Avg Wind Speed (mph)</th>\n",
       "      <th>Wind Run (miles)</th>\n",
       "      <th>Avg Soil Temp (F)</th>\n",
       "    </tr>\n",
       "  </thead>\n",
       "  <tbody>\n",
       "    <tr>\n",
       "      <th>0</th>\n",
       "      <td>2</td>\n",
       "      <td>FivePoints</td>\n",
       "      <td>San Joaquin Valley</td>\n",
       "      <td>7/1/2021</td>\n",
       "      <td>182.0</td>\n",
       "      <td>0.30</td>\n",
       "      <td>0.0</td>\n",
       "      <td>676.0</td>\n",
       "      <td>15.9</td>\n",
       "      <td>96.7</td>\n",
       "      <td>64.5</td>\n",
       "      <td>81.2</td>\n",
       "      <td>69.0</td>\n",
       "      <td>30.0</td>\n",
       "      <td>44.0</td>\n",
       "      <td>57.0</td>\n",
       "      <td>5.1</td>\n",
       "      <td>122.4</td>\n",
       "      <td>80.7</td>\n",
       "    </tr>\n",
       "    <tr>\n",
       "      <th>1</th>\n",
       "      <td>2</td>\n",
       "      <td>FivePoints</td>\n",
       "      <td>San Joaquin Valley</td>\n",
       "      <td>7/2/2021</td>\n",
       "      <td>183.0</td>\n",
       "      <td>0.29</td>\n",
       "      <td>0.0</td>\n",
       "      <td>681.0</td>\n",
       "      <td>15.7</td>\n",
       "      <td>100.3</td>\n",
       "      <td>64.3</td>\n",
       "      <td>82.0</td>\n",
       "      <td>67.0</td>\n",
       "      <td>25.0</td>\n",
       "      <td>42.0</td>\n",
       "      <td>56.8</td>\n",
       "      <td>5.0</td>\n",
       "      <td>120.5</td>\n",
       "      <td>80.7</td>\n",
       "    </tr>\n",
       "    <tr>\n",
       "      <th>2</th>\n",
       "      <td>2</td>\n",
       "      <td>FivePoints</td>\n",
       "      <td>San Joaquin Valley</td>\n",
       "      <td>7/3/2021</td>\n",
       "      <td>184.0</td>\n",
       "      <td>0.29</td>\n",
       "      <td>0.0</td>\n",
       "      <td>653.0</td>\n",
       "      <td>15.1</td>\n",
       "      <td>99.1</td>\n",
       "      <td>64.5</td>\n",
       "      <td>81.6</td>\n",
       "      <td>67.0</td>\n",
       "      <td>23.0</td>\n",
       "      <td>41.0</td>\n",
       "      <td>55.7</td>\n",
       "      <td>4.9</td>\n",
       "      <td>118.3</td>\n",
       "      <td>80.5</td>\n",
       "    </tr>\n",
       "  </tbody>\n",
       "</table>\n",
       "</div>"
      ],
      "text/plain": [
       "  Stn Id    Stn Name        CIMIS Region      Date    Jul  ETo (in)  \\\n",
       "0      2  FivePoints  San Joaquin Valley  7/1/2021  182.0      0.30   \n",
       "1      2  FivePoints  San Joaquin Valley  7/2/2021  183.0      0.29   \n",
       "2      2  FivePoints  San Joaquin Valley  7/3/2021  184.0      0.29   \n",
       "\n",
       "   Precip (in)  Sol Rad (Ly/day)  Avg Vap Pres (mBars)  Max Air Temp (F)  \\\n",
       "0          0.0             676.0                  15.9              96.7   \n",
       "1          0.0             681.0                  15.7             100.3   \n",
       "2          0.0             653.0                  15.1              99.1   \n",
       "\n",
       "   Min Air Temp (F)  Avg Air Temp (F)  Max Rel Hum (%)  Min Rel Hum (%)  \\\n",
       "0              64.5              81.2             69.0             30.0   \n",
       "1              64.3              82.0             67.0             25.0   \n",
       "2              64.5              81.6             67.0             23.0   \n",
       "\n",
       "   Avg Rel Hum (%)  Dew Point (F)  Avg Wind Speed (mph)  Wind Run (miles)  \\\n",
       "0             44.0           57.0                   5.1             122.4   \n",
       "1             42.0           56.8                   5.0             120.5   \n",
       "2             41.0           55.7                   4.9             118.3   \n",
       "\n",
       "   Avg Soil Temp (F)  \n",
       "0               80.7  \n",
       "1               80.7  \n",
       "2               80.5  "
      ]
     },
     "execution_count": 10,
     "metadata": {},
     "output_type": "execute_result"
    }
   ],
   "source": [
    "dixie_weather = pd.read_csv(\"../data/raw/july 2021.csv\")\n",
    "dixie_weather = dixie_weather.iloc[:-1]\n",
    "dixie_weather = data_explore(dixie_weather)\n",
    "dixie_weather.loc[:,'Stn Id'] =  pd.to_numeric(dixie_weather['Stn Id'])\n",
    "dixie_weather.head(3)"
   ]
  },
  {
   "cell_type": "markdown",
   "id": "b17fb8e2",
   "metadata": {},
   "source": [
    "**initial observations:**\n",
    "- `Stn Id` converted from object to number for merge\n",
    "---"
   ]
  },
  {
   "cell_type": "markdown",
   "id": "45f5cfaf",
   "metadata": {},
   "source": [
    "## 2. Data Cleaning and Merging"
   ]
  },
  {
   "cell_type": "markdown",
   "id": "f42144f9",
   "metadata": {},
   "source": [
    " ### 2.1 Historical Weather Merge\n",
    " Merge weather data with geographic information of CIMIS stations"
   ]
  },
  {
   "cell_type": "code",
   "execution_count": 11,
   "id": "3cd8ee35",
   "metadata": {},
   "outputs": [],
   "source": [
    "# Merge geographic station info into weather_data\n",
    "weather_station = weather.merge(\n",
    "    stations[['OBJECTID', 'County', 'Latitude', 'Longitude', 'Elevation']],\n",
    "    left_on='Stn Id', right_on='OBJECTID',\n",
    "    how='left', indicator=True\n",
    ")"
   ]
  },
  {
   "cell_type": "code",
   "execution_count": 12,
   "id": "1646a83f",
   "metadata": {
    "scrolled": true
   },
   "outputs": [
    {
     "name": "stdout",
     "output_type": "stream",
     "text": [
      "Duplicate Keys:  0\n",
      "Premerged shape:  (126811, 18)\n",
      "Merged shape:  (126811, 24)\n",
      "Duplicates after merge:  0\n",
      "NA values before merge:  138\n",
      "NA values after merge:  138\n"
     ]
    },
    {
     "data": {
      "text/html": [
       "<div>\n",
       "<style scoped>\n",
       "    .dataframe tbody tr th:only-of-type {\n",
       "        vertical-align: middle;\n",
       "    }\n",
       "\n",
       "    .dataframe tbody tr th {\n",
       "        vertical-align: top;\n",
       "    }\n",
       "\n",
       "    .dataframe thead th {\n",
       "        text-align: right;\n",
       "    }\n",
       "</style>\n",
       "<table border=\"1\" class=\"dataframe\">\n",
       "  <thead>\n",
       "    <tr style=\"text-align: right;\">\n",
       "      <th></th>\n",
       "      <th>Stn Id</th>\n",
       "      <th>Stn Name</th>\n",
       "      <th>CIMIS Region</th>\n",
       "      <th>Date</th>\n",
       "      <th>ETo (in)</th>\n",
       "      <th>Precip (in)</th>\n",
       "      <th>Sol Rad (Ly/day)</th>\n",
       "      <th>Avg Vap Pres (mBars)</th>\n",
       "      <th>Max Air Temp (F)</th>\n",
       "      <th>Min Air Temp (F)</th>\n",
       "      <th>...</th>\n",
       "      <th>Avg Rel Hum (%)</th>\n",
       "      <th>Dew Point (F)</th>\n",
       "      <th>Avg Wind Speed (mph)</th>\n",
       "      <th>Wind Run (miles)</th>\n",
       "      <th>Avg Soil Temp (F)</th>\n",
       "      <th>OBJECTID</th>\n",
       "      <th>County</th>\n",
       "      <th>Latitude</th>\n",
       "      <th>Longitude</th>\n",
       "      <th>Elevation</th>\n",
       "    </tr>\n",
       "  </thead>\n",
       "  <tbody>\n",
       "    <tr>\n",
       "      <th>38205</th>\n",
       "      <td>124</td>\n",
       "      <td>Panoche</td>\n",
       "      <td>San Joaquin Valley</td>\n",
       "      <td>2018-10-01 00:00:00</td>\n",
       "      <td>0.15</td>\n",
       "      <td>0.0</td>\n",
       "      <td>446.0</td>\n",
       "      <td>14.2</td>\n",
       "      <td>86.0</td>\n",
       "      <td>54.2</td>\n",
       "      <td>...</td>\n",
       "      <td>57.0</td>\n",
       "      <td>53.9</td>\n",
       "      <td>2.0</td>\n",
       "      <td>48.7</td>\n",
       "      <td>68.1</td>\n",
       "      <td>124</td>\n",
       "      <td>Fresno</td>\n",
       "      <td>36.890096</td>\n",
       "      <td>-120.731665</td>\n",
       "      <td>183</td>\n",
       "    </tr>\n",
       "  </tbody>\n",
       "</table>\n",
       "<p>1 rows × 23 columns</p>\n",
       "</div>"
      ],
      "text/plain": [
       "       Stn Id Stn Name        CIMIS Region                 Date  ETo (in)  \\\n",
       "38205     124  Panoche  San Joaquin Valley  2018-10-01 00:00:00      0.15   \n",
       "\n",
       "       Precip (in)  Sol Rad (Ly/day)  Avg Vap Pres (mBars)  Max Air Temp (F)  \\\n",
       "38205          0.0             446.0                  14.2              86.0   \n",
       "\n",
       "       Min Air Temp (F)  ...  Avg Rel Hum (%)  Dew Point (F)  \\\n",
       "38205              54.2  ...             57.0           53.9   \n",
       "\n",
       "       Avg Wind Speed (mph)  Wind Run (miles)  Avg Soil Temp (F)  OBJECTID  \\\n",
       "38205                   2.0              48.7               68.1       124   \n",
       "\n",
       "       County   Latitude   Longitude Elevation  \n",
       "38205  Fresno  36.890096 -120.731665       183  \n",
       "\n",
       "[1 rows x 23 columns]"
      ]
     },
     "metadata": {},
     "output_type": "display_data"
    }
   ],
   "source": [
    "post_merge_check(weather_station,weather)\n",
    "weather_station = weather_station.drop(columns=['_merge'])\n",
    "display(weather_station.sample(1))"
   ]
  },
  {
   "cell_type": "markdown",
   "id": "bec586c8",
   "metadata": {},
   "source": [
    "### 2.2 Palisades Weather Merge\n",
    " Merge Palisades fire weather data with geographic information of CIMIS stations"
   ]
  },
  {
   "cell_type": "code",
   "execution_count": 13,
   "id": "80a12bb8",
   "metadata": {},
   "outputs": [],
   "source": [
    "# Merge geographic station info into palisades_weather data\n",
    "pal_data = palisades_weather.merge(\n",
    "    stations[['OBJECTID', 'County', 'Latitude', 'Longitude', 'Elevation', 'Name']],\n",
    "    left_on='Stn Id', right_on='OBJECTID',\n",
    "    how='left'\n",
    ")"
   ]
  },
  {
   "cell_type": "code",
   "execution_count": 14,
   "id": "ebe31d89",
   "metadata": {
    "scrolled": true
   },
   "outputs": [
    {
     "name": "stdout",
     "output_type": "stream",
     "text": [
      "Duplicate Keys:  0\n",
      "Premerged shape:  (4464, 19)\n",
      "Merged shape:  (4464, 25)\n",
      "Duplicates after merge:  0\n",
      "NA values before merge:  1175\n",
      "NA values after merge:  1547\n"
     ]
    }
   ],
   "source": [
    "post_merge_check(pal_data,palisades_weather)"
   ]
  },
  {
   "cell_type": "markdown",
   "id": "4a4498a9",
   "metadata": {},
   "source": [
    "The palisades data includes readings from two stations not present in the stations dataset and not matched with county location. These entries are dropped."
   ]
  },
  {
   "cell_type": "code",
   "execution_count": 15,
   "id": "03887ed8",
   "metadata": {
    "scrolled": true
   },
   "outputs": [
    {
     "data": {
      "text/html": [
       "<div>\n",
       "<style scoped>\n",
       "    .dataframe tbody tr th:only-of-type {\n",
       "        vertical-align: middle;\n",
       "    }\n",
       "\n",
       "    .dataframe tbody tr th {\n",
       "        vertical-align: top;\n",
       "    }\n",
       "\n",
       "    .dataframe thead th {\n",
       "        text-align: right;\n",
       "    }\n",
       "</style>\n",
       "<table border=\"1\" class=\"dataframe\">\n",
       "  <thead>\n",
       "    <tr style=\"text-align: right;\">\n",
       "      <th></th>\n",
       "      <th>Stn Id</th>\n",
       "      <th>Stn Name</th>\n",
       "      <th>CIMIS Region</th>\n",
       "      <th>Date</th>\n",
       "      <th>Jul</th>\n",
       "      <th>ETo (in)</th>\n",
       "      <th>Precip (in)</th>\n",
       "      <th>Sol Rad (Ly/day)</th>\n",
       "      <th>Avg Vap Pres (mBars)</th>\n",
       "      <th>Max Air Temp (F)</th>\n",
       "      <th>...</th>\n",
       "      <th>Dew Point (F)</th>\n",
       "      <th>Avg Wind Speed (mph)</th>\n",
       "      <th>Wind Run (miles)</th>\n",
       "      <th>Avg Soil Temp (F)</th>\n",
       "      <th>OBJECTID</th>\n",
       "      <th>County</th>\n",
       "      <th>Latitude</th>\n",
       "      <th>Longitude</th>\n",
       "      <th>Elevation</th>\n",
       "      <th>Name</th>\n",
       "    </tr>\n",
       "  </thead>\n",
       "  <tbody>\n",
       "    <tr>\n",
       "      <th>2980</th>\n",
       "      <td>217</td>\n",
       "      <td>Moorpark</td>\n",
       "      <td>Central Coast Valleys</td>\n",
       "      <td>1/5/2025</td>\n",
       "      <td>5.0</td>\n",
       "      <td>0.12</td>\n",
       "      <td>0.02</td>\n",
       "      <td>284.0</td>\n",
       "      <td>5.3</td>\n",
       "      <td>79.7</td>\n",
       "      <td>...</td>\n",
       "      <td>28.3</td>\n",
       "      <td>4.4</td>\n",
       "      <td>105.2</td>\n",
       "      <td>60.0</td>\n",
       "      <td>217.0</td>\n",
       "      <td>Ventura</td>\n",
       "      <td>34.269031</td>\n",
       "      <td>-118.849319</td>\n",
       "      <td>718.0</td>\n",
       "      <td>Moorpark</td>\n",
       "    </tr>\n",
       "  </tbody>\n",
       "</table>\n",
       "<p>1 rows × 25 columns</p>\n",
       "</div>"
      ],
      "text/plain": [
       "     Stn Id  Stn Name           CIMIS Region      Date  Jul  ETo (in)  \\\n",
       "2980    217  Moorpark  Central Coast Valleys  1/5/2025  5.0      0.12   \n",
       "\n",
       "      Precip (in)  Sol Rad (Ly/day)  Avg Vap Pres (mBars)  Max Air Temp (F)  \\\n",
       "2980         0.02             284.0                   5.3              79.7   \n",
       "\n",
       "      ...  Dew Point (F)  Avg Wind Speed (mph)  Wind Run (miles)  \\\n",
       "2980  ...           28.3                   4.4             105.2   \n",
       "\n",
       "      Avg Soil Temp (F)  OBJECTID   County   Latitude   Longitude  Elevation  \\\n",
       "2980               60.0     217.0  Ventura  34.269031 -118.849319      718.0   \n",
       "\n",
       "          Name  \n",
       "2980  Moorpark  \n",
       "\n",
       "[1 rows x 25 columns]"
      ]
     },
     "execution_count": 15,
     "metadata": {},
     "output_type": "execute_result"
    }
   ],
   "source": [
    "pal_data['County'].isna().sum()\n",
    "no_county_info = pal_data['County'].isna()\n",
    "pal_data = pal_data[~no_county_info]\n",
    "pal_data.sample(1)"
   ]
  },
  {
   "cell_type": "markdown",
   "id": "94170d90",
   "metadata": {},
   "source": [
    "### 2.3 Dixie Weather Merge\n",
    "Merge Dixie fire weather data with geographic information of CIMIS stations"
   ]
  },
  {
   "cell_type": "code",
   "execution_count": 16,
   "id": "f19b781b",
   "metadata": {},
   "outputs": [],
   "source": [
    "# Merge geographic station info into dixie_weather data\n",
    "dixie_data = dixie_weather.merge(\n",
    "    stations[['OBJECTID', 'County', 'Latitude', 'Longitude', 'Elevation', 'Name']],\n",
    "    left_on='Stn Id', right_on='OBJECTID',\n",
    "    how='left'\n",
    ")"
   ]
  },
  {
   "cell_type": "code",
   "execution_count": 17,
   "id": "9d1863b1",
   "metadata": {},
   "outputs": [
    {
     "name": "stdout",
     "output_type": "stream",
     "text": [
      "Duplicate Keys:  0\n",
      "Premerged shape:  (4448, 19)\n",
      "Merged shape:  (4448, 25)\n",
      "Duplicates after merge:  0\n",
      "NA values before merge:  695\n",
      "NA values after merge:  695\n"
     ]
    },
    {
     "data": {
      "text/html": [
       "<div>\n",
       "<style scoped>\n",
       "    .dataframe tbody tr th:only-of-type {\n",
       "        vertical-align: middle;\n",
       "    }\n",
       "\n",
       "    .dataframe tbody tr th {\n",
       "        vertical-align: top;\n",
       "    }\n",
       "\n",
       "    .dataframe thead th {\n",
       "        text-align: right;\n",
       "    }\n",
       "</style>\n",
       "<table border=\"1\" class=\"dataframe\">\n",
       "  <thead>\n",
       "    <tr style=\"text-align: right;\">\n",
       "      <th></th>\n",
       "      <th>Stn Id</th>\n",
       "      <th>Stn Name</th>\n",
       "      <th>CIMIS Region</th>\n",
       "      <th>Date</th>\n",
       "      <th>Jul</th>\n",
       "      <th>ETo (in)</th>\n",
       "      <th>Precip (in)</th>\n",
       "      <th>Sol Rad (Ly/day)</th>\n",
       "      <th>Avg Vap Pres (mBars)</th>\n",
       "      <th>Max Air Temp (F)</th>\n",
       "      <th>...</th>\n",
       "      <th>Dew Point (F)</th>\n",
       "      <th>Avg Wind Speed (mph)</th>\n",
       "      <th>Wind Run (miles)</th>\n",
       "      <th>Avg Soil Temp (F)</th>\n",
       "      <th>OBJECTID</th>\n",
       "      <th>County</th>\n",
       "      <th>Latitude</th>\n",
       "      <th>Longitude</th>\n",
       "      <th>Elevation</th>\n",
       "      <th>Name</th>\n",
       "    </tr>\n",
       "  </thead>\n",
       "  <tbody>\n",
       "    <tr>\n",
       "      <th>1743</th>\n",
       "      <td>153</td>\n",
       "      <td>Escondido SPV</td>\n",
       "      <td>South Coast Valleys</td>\n",
       "      <td>7/16/2021</td>\n",
       "      <td>197.0</td>\n",
       "      <td>0.27</td>\n",
       "      <td>0.0</td>\n",
       "      <td>680.0</td>\n",
       "      <td>19.5</td>\n",
       "      <td>93.0</td>\n",
       "      <td>...</td>\n",
       "      <td>62.8</td>\n",
       "      <td>4.7</td>\n",
       "      <td>113.1</td>\n",
       "      <td>86.7</td>\n",
       "      <td>153</td>\n",
       "      <td>San Diego</td>\n",
       "      <td>33.08105</td>\n",
       "      <td>-116.975697</td>\n",
       "      <td>390</td>\n",
       "      <td>Escondido SPV</td>\n",
       "    </tr>\n",
       "  </tbody>\n",
       "</table>\n",
       "<p>1 rows × 25 columns</p>\n",
       "</div>"
      ],
      "text/plain": [
       "     Stn Id       Stn Name         CIMIS Region       Date    Jul  ETo (in)  \\\n",
       "1743    153  Escondido SPV  South Coast Valleys  7/16/2021  197.0      0.27   \n",
       "\n",
       "      Precip (in)  Sol Rad (Ly/day)  Avg Vap Pres (mBars)  Max Air Temp (F)  \\\n",
       "1743          0.0             680.0                  19.5              93.0   \n",
       "\n",
       "      ...  Dew Point (F)  Avg Wind Speed (mph)  Wind Run (miles)  \\\n",
       "1743  ...           62.8                   4.7             113.1   \n",
       "\n",
       "      Avg Soil Temp (F)  OBJECTID     County  Latitude   Longitude  Elevation  \\\n",
       "1743               86.7       153  San Diego  33.08105 -116.975697        390   \n",
       "\n",
       "               Name  \n",
       "1743  Escondido SPV  \n",
       "\n",
       "[1 rows x 25 columns]"
      ]
     },
     "execution_count": 17,
     "metadata": {},
     "output_type": "execute_result"
    }
   ],
   "source": [
    "post_merge_check(dixie_data,dixie_weather)\n",
    "dixie_data.sample(1)"
   ]
  },
  {
   "cell_type": "markdown",
   "id": "4d976013",
   "metadata": {},
   "source": [
    "Format weather data to merge with fire damage dataset"
   ]
  },
  {
   "cell_type": "code",
   "execution_count": 18,
   "id": "976d7c6b",
   "metadata": {},
   "outputs": [],
   "source": [
    "# Format county names to match fire damage dataset\n",
    "weather_station.loc[:, 'County'] = weather_station['County'].str.upper()\n",
    "\n",
    "# Convert Date fields to datetime format\n",
    "weather_station.loc[:, 'Date'] = pd.to_datetime(weather_station['Date'], format='mixed')\n",
    "pal_data.loc[:, 'Date'] = pd.to_datetime(pal_data['Date'], format='mixed')\n",
    "dixie_data.loc[:, 'Date'] = pd.to_datetime(dixie_data['Date'], format='mixed')"
   ]
  },
  {
   "cell_type": "markdown",
   "id": "6bd35277",
   "metadata": {},
   "source": [
    "### 2.4 Clean and Format Fire Damage Dataset"
   ]
  },
  {
   "cell_type": "code",
   "execution_count": 19,
   "id": "f38b65c7",
   "metadata": {},
   "outputs": [],
   "source": [
    "# Backup copy\n",
    "damage_raw = fire_damage.copy()\n",
    "\n",
    "# Drop unneeded columns\n",
    "fire_damage = fire_damage.drop(columns=['Fire Name', 'DPA', 'Incident #','Type','Cause'])\n",
    "\n",
    "# Convert string values to numeric in relevant columns\n",
    "cols = ['Total', 'Dest.', 'Dam.', 'Fire', 'Civil']\n",
    "for col in cols:\n",
    "    # drop any commas\n",
    "    fire_damage[col] = fire_damage[col].str.replace(',', '').astype(float)\n",
    "    fire_damage[col] = pd.to_numeric(fire_damage[col])\n",
    "\n",
    "# Fill NA values with 0\n",
    "fire_damage = fire_damage.fillna(0)\n",
    "\n",
    "# Convert the start and containment dates to datetime\n",
    "fire_damage['Start'] = pd.to_datetime(fire_damage['Start'], format='mixed')\n",
    "fire_damage['Cont.'] = pd.to_datetime(fire_damage['Cont.'], format='mixed')\n",
    "\n",
    "# Fix formatting issue in county names\n",
    "fire_damage['County'] = fire_damage['County'].str[:-1]"
   ]
  },
  {
   "cell_type": "code",
   "execution_count": 20,
   "id": "dca71af7",
   "metadata": {},
   "outputs": [
    {
     "data": {
      "text/html": [
       "<div>\n",
       "<style scoped>\n",
       "    .dataframe tbody tr th:only-of-type {\n",
       "        vertical-align: middle;\n",
       "    }\n",
       "\n",
       "    .dataframe tbody tr th {\n",
       "        vertical-align: top;\n",
       "    }\n",
       "\n",
       "    .dataframe thead th {\n",
       "        text-align: right;\n",
       "    }\n",
       "</style>\n",
       "<table border=\"1\" class=\"dataframe\">\n",
       "  <thead>\n",
       "    <tr style=\"text-align: right;\">\n",
       "      <th></th>\n",
       "      <th>County</th>\n",
       "      <th>Start</th>\n",
       "      <th>Cont.</th>\n",
       "      <th>Total</th>\n",
       "      <th>Dest.</th>\n",
       "      <th>Dam.</th>\n",
       "      <th>Fire</th>\n",
       "      <th>Civil</th>\n",
       "    </tr>\n",
       "  </thead>\n",
       "  <tbody>\n",
       "    <tr>\n",
       "      <th>42</th>\n",
       "      <td>NAPA</td>\n",
       "      <td>2018-09-08</td>\n",
       "      <td>2018-09-15</td>\n",
       "      <td>2490.0</td>\n",
       "      <td>0.0</td>\n",
       "      <td>0.0</td>\n",
       "      <td>0.0</td>\n",
       "      <td>0.0</td>\n",
       "    </tr>\n",
       "    <tr>\n",
       "      <th>258</th>\n",
       "      <td>LASSEN</td>\n",
       "      <td>2020-08-18</td>\n",
       "      <td>2020-09-13</td>\n",
       "      <td>84817.0</td>\n",
       "      <td>1.0</td>\n",
       "      <td>0.0</td>\n",
       "      <td>0.0</td>\n",
       "      <td>0.0</td>\n",
       "    </tr>\n",
       "    <tr>\n",
       "      <th>100</th>\n",
       "      <td>TEHAMA</td>\n",
       "      <td>2019-09-05</td>\n",
       "      <td>2019-09-17</td>\n",
       "      <td>8836.0</td>\n",
       "      <td>2.0</td>\n",
       "      <td>0.0</td>\n",
       "      <td>0.0</td>\n",
       "      <td>0.0</td>\n",
       "    </tr>\n",
       "    <tr>\n",
       "      <th>240</th>\n",
       "      <td>FRESNO</td>\n",
       "      <td>2020-08-03</td>\n",
       "      <td>2020-09-01</td>\n",
       "      <td>594.0</td>\n",
       "      <td>0.0</td>\n",
       "      <td>0.0</td>\n",
       "      <td>0.0</td>\n",
       "      <td>0.0</td>\n",
       "    </tr>\n",
       "    <tr>\n",
       "      <th>64</th>\n",
       "      <td>LASSEN</td>\n",
       "      <td>2018-07-27</td>\n",
       "      <td>2018-08-06</td>\n",
       "      <td>18703.0</td>\n",
       "      <td>0.0</td>\n",
       "      <td>0.0</td>\n",
       "      <td>0.0</td>\n",
       "      <td>0.0</td>\n",
       "    </tr>\n",
       "  </tbody>\n",
       "</table>\n",
       "</div>"
      ],
      "text/plain": [
       "     County      Start      Cont.    Total  Dest.  Dam.  Fire  Civil\n",
       "42     NAPA 2018-09-08 2018-09-15   2490.0    0.0   0.0   0.0    0.0\n",
       "258  LASSEN 2020-08-18 2020-09-13  84817.0    1.0   0.0   0.0    0.0\n",
       "100  TEHAMA 2019-09-05 2019-09-17   8836.0    2.0   0.0   0.0    0.0\n",
       "240  FRESNO 2020-08-03 2020-09-01    594.0    0.0   0.0   0.0    0.0\n",
       "64   LASSEN 2018-07-27 2018-08-06  18703.0    0.0   0.0   0.0    0.0"
      ]
     },
     "execution_count": 20,
     "metadata": {},
     "output_type": "execute_result"
    }
   ],
   "source": [
    "fire_damage.sample(5)"
   ]
  },
  {
   "cell_type": "markdown",
   "id": "fcf3040f",
   "metadata": {},
   "source": [
    "---"
   ]
  },
  {
   "cell_type": "markdown",
   "id": "610f43fa",
   "metadata": {},
   "source": [
    "## 3. Data Imputation"
   ]
  },
  {
   "cell_type": "markdown",
   "id": "20a828d1",
   "metadata": {},
   "source": [
    "Display percentage of the amount of NA values in each column"
   ]
  },
  {
   "cell_type": "code",
   "execution_count": 21,
   "id": "8ef2a986",
   "metadata": {},
   "outputs": [
    {
     "data": {
      "text/plain": [
       "Stn Id                  0.00\n",
       "Stn Name                0.00\n",
       "CIMIS Region            0.00\n",
       "Date                    0.00\n",
       "ETo (in)                0.07\n",
       "Precip (in)             0.00\n",
       "Sol Rad (Ly/day)        0.00\n",
       "Avg Vap Pres (mBars)    0.00\n",
       "Max Air Temp (F)        0.00\n",
       "Min Air Temp (F)        0.00\n",
       "Avg Air Temp (F)        0.00\n",
       "Max Rel Hum (%)         0.00\n",
       "Min Rel Hum (%)         0.00\n",
       "Avg Rel Hum (%)         0.01\n",
       "Dew Point (F)           0.01\n",
       "Avg Wind Speed (mph)    0.00\n",
       "Wind Run (miles)        0.00\n",
       "Avg Soil Temp (F)       0.02\n",
       "OBJECTID                0.00\n",
       "County                  0.00\n",
       "Latitude                0.00\n",
       "Longitude               0.00\n",
       "Elevation               0.00\n",
       "dtype: float64"
      ]
     },
     "execution_count": 21,
     "metadata": {},
     "output_type": "execute_result"
    }
   ],
   "source": [
    "weather_station.isna().mean().round(4) * 100"
   ]
  },
  {
   "cell_type": "markdown",
   "id": "d92a1271",
   "metadata": {},
   "source": [
    "*impute_median_data* - file from src.data_utils that fills all NA values with the median of each column."
   ]
  },
  {
   "cell_type": "code",
   "execution_count": 22,
   "id": "5ba114cd",
   "metadata": {},
   "outputs": [],
   "source": [
    "# Fill missing numeric weather values in the data dataframe using the median of each column.\n",
    "imp_weather_station = impute_median_data(weather_station)\n",
    "pal_data = impute_median_data(pal_data)\n",
    "dixie_data = impute_median_data(dixie_data)"
   ]
  },
  {
   "cell_type": "code",
   "execution_count": 23,
   "id": "7d3c1da3",
   "metadata": {},
   "outputs": [
    {
     "data": {
      "text/plain": [
       "Stn Id                  0.0\n",
       "Stn Name                0.0\n",
       "CIMIS Region            0.0\n",
       "Date                    0.0\n",
       "ETo (in)                0.0\n",
       "Precip (in)             0.0\n",
       "Sol Rad (Ly/day)        0.0\n",
       "Avg Vap Pres (mBars)    0.0\n",
       "Max Air Temp (F)        0.0\n",
       "Min Air Temp (F)        0.0\n",
       "Avg Air Temp (F)        0.0\n",
       "Max Rel Hum (%)         0.0\n",
       "Min Rel Hum (%)         0.0\n",
       "Avg Rel Hum (%)         0.0\n",
       "Dew Point (F)           0.0\n",
       "Avg Wind Speed (mph)    0.0\n",
       "Wind Run (miles)        0.0\n",
       "Avg Soil Temp (F)       0.0\n",
       "OBJECTID                0.0\n",
       "County                  0.0\n",
       "Latitude                0.0\n",
       "Longitude               0.0\n",
       "Elevation               0.0\n",
       "dtype: float64"
      ]
     },
     "execution_count": 23,
     "metadata": {},
     "output_type": "execute_result"
    }
   ],
   "source": [
    "imp_weather_station.isna().mean().round(4) * 100"
   ]
  },
  {
   "cell_type": "markdown",
   "id": "e4bdb8fd",
   "metadata": {},
   "source": [
    "### 3.1 Calculate Fire Duration\n",
    "\n",
    "Compute the number of days each fire burned based on reported start and containment dates."
   ]
  },
  {
   "cell_type": "code",
   "execution_count": 24,
   "id": "08d86ed3",
   "metadata": {},
   "outputs": [],
   "source": [
    "# Calculate duration in days\n",
    "fire_damage['Days'] = fire_damage['Cont.'] - fire_damage['Start']\n",
    "fire_damage['Days'] = pd.to_timedelta(fire_damage['Days'])\n",
    "fire_damage['Days'] = fire_damage['Days'].dt.days\n",
    "fire_damage['Days'] = pd.to_numeric(fire_damage['Days'])\n",
    "\n",
    "# Ensure minimum duration is at least one day\n",
    "fire_damage.loc[fire_damage['Days'] == 0, 'Days'] = 1"
   ]
  },
  {
   "cell_type": "markdown",
   "id": "80493faf",
   "metadata": {},
   "source": [
    "### 3.2 Drop Stations With Very Few Readings\n",
    "\n",
    "Some weather stations have data recorded for only a limited number of days, which can introduce high variability in their predictions. Exclude any station that has data for fewer than 900 days."
   ]
  },
  {
   "cell_type": "code",
   "execution_count": 25,
   "id": "bf33b2d4",
   "metadata": {},
   "outputs": [],
   "source": [
    "# Convert the 'Date' column to datetime format (if not already)\n",
    "station_date = pd.to_datetime(imp_weather_station['Date'])"
   ]
  },
  {
   "cell_type": "code",
   "execution_count": 26,
   "id": "8ec21280",
   "metadata": {},
   "outputs": [
    {
     "name": "stdout",
     "output_type": "stream",
     "text": [
      "Shape before dropping:  (126811, 23)\n"
     ]
    }
   ],
   "source": [
    "print(\"Shape before dropping: \", imp_weather_station.shape)"
   ]
  },
  {
   "cell_type": "code",
   "execution_count": 27,
   "id": "1f444453",
   "metadata": {},
   "outputs": [],
   "source": [
    "# Count records per station\n",
    "station_counts = imp_weather_station['Stn Name'].value_counts()\n",
    "\n",
    "# Identify stations with at least 400 records\n",
    "reliable_stations = station_counts[station_counts >= 900].index\n",
    "\n",
    "# Filter the DataFrame to keep only reliable stations\n",
    "imp_weather_station = imp_weather_station[imp_weather_station['Stn Name'].isin(reliable_stations)]"
   ]
  },
  {
   "cell_type": "code",
   "execution_count": 28,
   "id": "6b04ce84",
   "metadata": {},
   "outputs": [
    {
     "name": "stdout",
     "output_type": "stream",
     "text": [
      "Shape after dropping:  (99717, 23)\n"
     ]
    }
   ],
   "source": [
    "print(\"Shape after dropping: \", imp_weather_station.shape)"
   ]
  },
  {
   "cell_type": "markdown",
   "id": "4dc49ed8",
   "metadata": {},
   "source": [
    "### 3.3 Identify Missing Dates\n",
    "Some weather stations have gaps in daily records due to maintenance or equipment failures. Loop through all counties and compare the actual recorded dates to the expected continuous date range to identify missing entries.\n",
    "\n",
    "**Note:** These missing dates could be imputed in future updates."
   ]
  },
  {
   "cell_type": "code",
   "execution_count": 29,
   "id": "90f92af1",
   "metadata": {},
   "outputs": [],
   "source": [
    "missing_dates = identify_missing_station_dates(imp_weather_station)"
   ]
  },
  {
   "cell_type": "code",
   "execution_count": 30,
   "id": "64c266de",
   "metadata": {},
   "outputs": [
    {
     "name": "stdout",
     "output_type": "stream",
     "text": [
      "Number of missing entries:  3451\n"
     ]
    }
   ],
   "source": [
    "print(\"Number of missing entries: \", len(missing_dates))"
   ]
  },
  {
   "cell_type": "markdown",
   "id": "4cdf201d",
   "metadata": {},
   "source": [
    "### 3.5 Merge Weather and Fire Damage Datasets\n",
    "\n",
    "To prepare for feature engineering, we merge the cleaned CIMIS weather data with the fire damage records. This allows us to associate environmental conditions with known fire events, based on shared county and date information."
   ]
  },
  {
   "cell_type": "code",
   "execution_count": 31,
   "id": "7fda417d",
   "metadata": {},
   "outputs": [],
   "source": [
    "# Ensure date columns are in datetime format for merge\n",
    "imp_weather_station['Date'] = pd.to_datetime(imp_weather_station['Date'])\n",
    "fire_damage['Start'] = pd.to_datetime(fire_damage['Start'])\n",
    "fire_keep = fire_damage.drop(columns = [ 'Cont.'])"
   ]
  },
  {
   "cell_type": "markdown",
   "id": "43d97067",
   "metadata": {},
   "source": [
    "The following changes are made to allow for more than one fire burning per county in a day:\n",
    "- Damage columns are added together to represent the total damage present in the county. \n",
    "- `Days` column represents the amount of days a fire burned for, set this to the max value"
   ]
  },
  {
   "cell_type": "code",
   "execution_count": 32,
   "id": "5c7bc807",
   "metadata": {},
   "outputs": [],
   "source": [
    "agg_dict = {col: 'sum' for col in fire_keep.select_dtypes(include='number').columns}\n",
    "agg_dict['Days'] = 'max'  # Override 'Days' aggregation\n",
    "\n",
    "# Group by County and Start with custom aggregation\n",
    "fire_agg = fire_keep.groupby(['County', 'Start'], as_index=False).agg(agg_dict) "
   ]
  },
  {
   "cell_type": "code",
   "execution_count": 33,
   "id": "c5d28cf9",
   "metadata": {},
   "outputs": [],
   "source": [
    "# Merge weather data with fire damage records\n",
    "# Matching on county and the start date of the fire\n",
    "weather_fire = imp_weather_station.merge(\n",
    "    fire_agg,\n",
    "    left_on=['County', 'Date'],\n",
    "    right_on=['County', 'Start'],\n",
    "    how='left',\n",
    "    indicator=True\n",
    ")\n",
    "\n",
    "# Drop Start column, not needed in future\n",
    "weather_fire = weather_fire.drop(columns=['Start'])"
   ]
  },
  {
   "cell_type": "markdown",
   "id": "9a6e1584",
   "metadata": {},
   "source": [
    "Since days without fires won’t have matching records in the merge, the damage indicators will appear as NA. Replace these NA values with 0 to prepare for future index calculations."
   ]
  },
  {
   "cell_type": "code",
   "execution_count": 34,
   "id": "aee56a1f",
   "metadata": {},
   "outputs": [],
   "source": [
    "cols = ['Total','Days','Dam.','Dest.','Fire','Civil']\n",
    "weather_fire[cols] = weather_fire[cols].fillna(0)"
   ]
  },
  {
   "cell_type": "code",
   "execution_count": 35,
   "id": "0f315b7c",
   "metadata": {},
   "outputs": [
    {
     "name": "stdout",
     "output_type": "stream",
     "text": [
      "Duplicate Keys:  0\n",
      "Premerged shape:  (99717, 23)\n",
      "Merged shape:  (99717, 30)\n",
      "Duplicates after merge:  0\n",
      "NA values before merge:  0\n",
      "NA values after merge:  0\n"
     ]
    },
    {
     "data": {
      "text/html": [
       "<div>\n",
       "<style scoped>\n",
       "    .dataframe tbody tr th:only-of-type {\n",
       "        vertical-align: middle;\n",
       "    }\n",
       "\n",
       "    .dataframe tbody tr th {\n",
       "        vertical-align: top;\n",
       "    }\n",
       "\n",
       "    .dataframe thead th {\n",
       "        text-align: right;\n",
       "    }\n",
       "</style>\n",
       "<table border=\"1\" class=\"dataframe\">\n",
       "  <thead>\n",
       "    <tr style=\"text-align: right;\">\n",
       "      <th></th>\n",
       "      <th>Stn Id</th>\n",
       "      <th>Stn Name</th>\n",
       "      <th>CIMIS Region</th>\n",
       "      <th>Date</th>\n",
       "      <th>ETo (in)</th>\n",
       "      <th>Precip (in)</th>\n",
       "      <th>Sol Rad (Ly/day)</th>\n",
       "      <th>Avg Vap Pres (mBars)</th>\n",
       "      <th>Max Air Temp (F)</th>\n",
       "      <th>Min Air Temp (F)</th>\n",
       "      <th>...</th>\n",
       "      <th>County</th>\n",
       "      <th>Latitude</th>\n",
       "      <th>Longitude</th>\n",
       "      <th>Elevation</th>\n",
       "      <th>Total</th>\n",
       "      <th>Dest.</th>\n",
       "      <th>Dam.</th>\n",
       "      <th>Fire</th>\n",
       "      <th>Civil</th>\n",
       "      <th>Days</th>\n",
       "    </tr>\n",
       "  </thead>\n",
       "  <tbody>\n",
       "    <tr>\n",
       "      <th>5972</th>\n",
       "      <td>202</td>\n",
       "      <td>Nipomo</td>\n",
       "      <td>Central Coast Valleys</td>\n",
       "      <td>2018-03-14</td>\n",
       "      <td>0.05</td>\n",
       "      <td>0.07</td>\n",
       "      <td>232.0</td>\n",
       "      <td>12.2</td>\n",
       "      <td>59.8</td>\n",
       "      <td>47.7</td>\n",
       "      <td>...</td>\n",
       "      <td>SAN LUIS OBISPO</td>\n",
       "      <td>35.028281</td>\n",
       "      <td>-120.560033</td>\n",
       "      <td>255</td>\n",
       "      <td>0.0</td>\n",
       "      <td>0.0</td>\n",
       "      <td>0.0</td>\n",
       "      <td>0.0</td>\n",
       "      <td>0.0</td>\n",
       "      <td>0.0</td>\n",
       "    </tr>\n",
       "    <tr>\n",
       "      <th>13115</th>\n",
       "      <td>157</td>\n",
       "      <td>Point San Pedro</td>\n",
       "      <td>San Francisco Bay</td>\n",
       "      <td>2018-05-20</td>\n",
       "      <td>0.16</td>\n",
       "      <td>0.00</td>\n",
       "      <td>557.0</td>\n",
       "      <td>11.5</td>\n",
       "      <td>66.8</td>\n",
       "      <td>49.0</td>\n",
       "      <td>...</td>\n",
       "      <td>MARIN</td>\n",
       "      <td>37.995478</td>\n",
       "      <td>-122.467656</td>\n",
       "      <td>5</td>\n",
       "      <td>0.0</td>\n",
       "      <td>0.0</td>\n",
       "      <td>0.0</td>\n",
       "      <td>0.0</td>\n",
       "      <td>0.0</td>\n",
       "      <td>0.0</td>\n",
       "    </tr>\n",
       "  </tbody>\n",
       "</table>\n",
       "<p>2 rows × 29 columns</p>\n",
       "</div>"
      ],
      "text/plain": [
       "       Stn Id         Stn Name           CIMIS Region       Date  ETo (in)  \\\n",
       "5972      202           Nipomo  Central Coast Valleys 2018-03-14      0.05   \n",
       "13115     157  Point San Pedro      San Francisco Bay 2018-05-20      0.16   \n",
       "\n",
       "       Precip (in)  Sol Rad (Ly/day)  Avg Vap Pres (mBars)  Max Air Temp (F)  \\\n",
       "5972          0.07             232.0                  12.2              59.8   \n",
       "13115         0.00             557.0                  11.5              66.8   \n",
       "\n",
       "       Min Air Temp (F)  ...           County   Latitude   Longitude  \\\n",
       "5972               47.7  ...  SAN LUIS OBISPO  35.028281 -120.560033   \n",
       "13115              49.0  ...            MARIN  37.995478 -122.467656   \n",
       "\n",
       "       Elevation  Total  Dest.  Dam.  Fire  Civil Days  \n",
       "5972         255    0.0    0.0   0.0   0.0    0.0  0.0  \n",
       "13115          5    0.0    0.0   0.0   0.0    0.0  0.0  \n",
       "\n",
       "[2 rows x 29 columns]"
      ]
     },
     "execution_count": 35,
     "metadata": {},
     "output_type": "execute_result"
    }
   ],
   "source": [
    "post_merge_check(weather_fire,imp_weather_station)\n",
    "weather_fire = weather_fire.drop(columns=['_merge'])\n",
    "weather_fire.sample(2)"
   ]
  },
  {
   "cell_type": "markdown",
   "id": "c313a828",
   "metadata": {},
   "source": [
    "## 4. Suplementary Data"
   ]
  },
  {
   "cell_type": "markdown",
   "id": "69f4613b",
   "metadata": {},
   "source": [
    "### 4.1 Merge population density data\n",
    "\n",
    "Population Data obtained from 2020 US Census Data."
   ]
  },
  {
   "cell_type": "code",
   "execution_count": 36,
   "id": "0bf3bf2f",
   "metadata": {},
   "outputs": [],
   "source": [
    "pop_density = pd.read_csv(\"../data/raw/pop.csv\")"
   ]
  },
  {
   "cell_type": "markdown",
   "id": "87f36d45",
   "metadata": {},
   "source": [
    "Basic formatting of column names and cases for merging"
   ]
  },
  {
   "cell_type": "code",
   "execution_count": 37,
   "id": "ae07bc4c",
   "metadata": {},
   "outputs": [
    {
     "data": {
      "text/html": [
       "<div>\n",
       "<style scoped>\n",
       "    .dataframe tbody tr th:only-of-type {\n",
       "        vertical-align: middle;\n",
       "    }\n",
       "\n",
       "    .dataframe tbody tr th {\n",
       "        vertical-align: top;\n",
       "    }\n",
       "\n",
       "    .dataframe thead th {\n",
       "        text-align: right;\n",
       "    }\n",
       "</style>\n",
       "<table border=\"1\" class=\"dataframe\">\n",
       "  <thead>\n",
       "    <tr style=\"text-align: right;\">\n",
       "      <th></th>\n",
       "      <th>County</th>\n",
       "      <th>Total Population</th>\n",
       "      <th>Size (square miles)</th>\n",
       "      <th>density</th>\n",
       "      <th>class</th>\n",
       "    </tr>\n",
       "  </thead>\n",
       "  <tbody>\n",
       "    <tr>\n",
       "      <th>0</th>\n",
       "      <td>ALAMEDA</td>\n",
       "      <td>1622188</td>\n",
       "      <td>739.02</td>\n",
       "      <td>2195.052908</td>\n",
       "      <td>urban</td>\n",
       "    </tr>\n",
       "    <tr>\n",
       "      <th>1</th>\n",
       "      <td>ALPINE</td>\n",
       "      <td>1141</td>\n",
       "      <td>738.33</td>\n",
       "      <td>1.545379</td>\n",
       "      <td>rural</td>\n",
       "    </tr>\n",
       "    <tr>\n",
       "      <th>2</th>\n",
       "      <td>AMADOR</td>\n",
       "      <td>41811</td>\n",
       "      <td>594.58</td>\n",
       "      <td>70.320226</td>\n",
       "      <td>semi-urban</td>\n",
       "    </tr>\n",
       "    <tr>\n",
       "      <th>3</th>\n",
       "      <td>BUTTE</td>\n",
       "      <td>207172</td>\n",
       "      <td>1636.46</td>\n",
       "      <td>126.597656</td>\n",
       "      <td>semi-urban</td>\n",
       "    </tr>\n",
       "    <tr>\n",
       "      <th>4</th>\n",
       "      <td>CALAVERAS</td>\n",
       "      <td>46565</td>\n",
       "      <td>1020.01</td>\n",
       "      <td>45.651513</td>\n",
       "      <td>semi-urban</td>\n",
       "    </tr>\n",
       "  </tbody>\n",
       "</table>\n",
       "</div>"
      ],
      "text/plain": [
       "      County  Total Population  Size (square miles)      density       class\n",
       "0    ALAMEDA           1622188               739.02  2195.052908       urban\n",
       "1     ALPINE              1141               738.33     1.545379       rural\n",
       "2     AMADOR             41811               594.58    70.320226  semi-urban\n",
       "3      BUTTE            207172              1636.46   126.597656  semi-urban\n",
       "4  CALAVERAS             46565              1020.01    45.651513  semi-urban"
      ]
     },
     "execution_count": 37,
     "metadata": {},
     "output_type": "execute_result"
    }
   ],
   "source": [
    "pop_density.rename(columns={'POPESTIMATE': 'Total Population'}, inplace=True)\n",
    "pop_keep = pop_density.drop(columns = ['Unnamed: 0','County','YEAR'])\n",
    "pop_keep.rename(columns={'CTYNAME': 'County'}, inplace=True)\n",
    "pop_keep['County'] = pop_keep['County'].str.upper()\n",
    "pop_keep.head()"
   ]
  },
  {
   "cell_type": "markdown",
   "id": "28bf842f",
   "metadata": {},
   "source": [
    "Merge in population data to main dataset and case study datasets."
   ]
  },
  {
   "cell_type": "code",
   "execution_count": 38,
   "id": "f5f69ad6",
   "metadata": {},
   "outputs": [],
   "source": [
    "# Adjust case to match other sets\n",
    "pal_data['County'] = pal_data['County'].str.upper()\n",
    "dixie_data['County'] = dixie_data['County'].str.upper()"
   ]
  },
  {
   "cell_type": "code",
   "execution_count": 39,
   "id": "4fb311d0",
   "metadata": {},
   "outputs": [],
   "source": [
    "weather_fire_pop = weather_fire.merge(\n",
    "    pop_keep,\n",
    "    left_on='County', right_on='County',\n",
    "    how='left', indicator=True\n",
    ")\n",
    "\n",
    "pal_pop = pal_data.merge(\n",
    "    pop_keep,\n",
    "    left_on='County', right_on='County',\n",
    "    how='left', indicator=True\n",
    ")\n",
    "\n",
    "dixie_pop = dixie_data.merge(\n",
    "    pop_keep,\n",
    "    left_on='County', right_on='County',\n",
    "    how='left', indicator=True\n",
    ")"
   ]
  },
  {
   "cell_type": "code",
   "execution_count": 40,
   "id": "582edfcc",
   "metadata": {},
   "outputs": [
    {
     "name": "stdout",
     "output_type": "stream",
     "text": [
      "Main Weather Data:\n",
      "Duplicate Keys:  0\n",
      "Premerged shape:  (99717, 29)\n",
      "Merged shape:  (99717, 34)\n",
      "Duplicates after merge:  0\n",
      "NA values before merge:  0\n",
      "NA values after merge:  0\n",
      "\n",
      "Palisades Weather Data:\n",
      "Duplicate Keys:  0\n",
      "Premerged shape:  (4402, 25)\n",
      "Merged shape:  (4402, 30)\n",
      "Duplicates after merge:  0\n",
      "NA values before merge:  0\n",
      "NA values after merge:  124\n",
      "\n",
      "Dixie Weather Data:\n",
      "Duplicate Keys:  0\n",
      "Premerged shape:  (4448, 25)\n",
      "Merged shape:  (4448, 30)\n",
      "Duplicates after merge:  0\n",
      "NA values before merge:  0\n",
      "NA values after merge:  128\n"
     ]
    }
   ],
   "source": [
    "print(\"Main Weather Data:\")\n",
    "post_merge_check(weather_fire_pop,weather_fire)\n",
    "\n",
    "print(\"\\nPalisades Weather Data:\")\n",
    "post_merge_check(pal_pop,pal_data)\n",
    "\n",
    "print(\"\\nDixie Weather Data:\")\n",
    "post_merge_check(dixie_pop,dixie_data)\n",
    "\n",
    "weather_fire_pop = weather_fire_pop.drop(columns=['_merge'])\n",
    "pal_pop = pal_pop.drop(columns=['_merge'])\n",
    "dixie_pop = dixie_pop.drop(columns=['_merge'])"
   ]
  },
  {
   "cell_type": "markdown",
   "id": "b0eac013",
   "metadata": {},
   "source": [
    "### 4.2 Merge Mean Income Data\n",
    "\n",
    "Mean income data obtained from 2020 US Census Data."
   ]
  },
  {
   "cell_type": "code",
   "execution_count": 41,
   "id": "369256c7",
   "metadata": {},
   "outputs": [],
   "source": [
    "mean_income = pd.read_csv(\"../data/raw/mean_income_by_county.csv\")"
   ]
  },
  {
   "cell_type": "markdown",
   "id": "d6d805c4",
   "metadata": {},
   "source": [
    "format data to match case and adjust `Mean Income` column to be numerical"
   ]
  },
  {
   "cell_type": "code",
   "execution_count": 42,
   "id": "ef310d33",
   "metadata": {},
   "outputs": [
    {
     "data": {
      "text/html": [
       "<div>\n",
       "<style scoped>\n",
       "    .dataframe tbody tr th:only-of-type {\n",
       "        vertical-align: middle;\n",
       "    }\n",
       "\n",
       "    .dataframe tbody tr th {\n",
       "        vertical-align: top;\n",
       "    }\n",
       "\n",
       "    .dataframe thead th {\n",
       "        text-align: right;\n",
       "    }\n",
       "</style>\n",
       "<table border=\"1\" class=\"dataframe\">\n",
       "  <thead>\n",
       "    <tr style=\"text-align: right;\">\n",
       "      <th></th>\n",
       "      <th>County</th>\n",
       "      <th>Mean Income</th>\n",
       "    </tr>\n",
       "  </thead>\n",
       "  <tbody>\n",
       "    <tr>\n",
       "      <th>0</th>\n",
       "      <td>ALAMEDA</td>\n",
       "      <td>138489</td>\n",
       "    </tr>\n",
       "    <tr>\n",
       "      <th>1</th>\n",
       "      <td>ALPINE</td>\n",
       "      <td>107737</td>\n",
       "    </tr>\n",
       "    <tr>\n",
       "      <th>2</th>\n",
       "      <td>AMADOR</td>\n",
       "      <td>85184</td>\n",
       "    </tr>\n",
       "    <tr>\n",
       "      <th>3</th>\n",
       "      <td>BUTTE</td>\n",
       "      <td>79233</td>\n",
       "    </tr>\n",
       "    <tr>\n",
       "      <th>4</th>\n",
       "      <td>CALAVERAS</td>\n",
       "      <td>84164</td>\n",
       "    </tr>\n",
       "  </tbody>\n",
       "</table>\n",
       "</div>"
      ],
      "text/plain": [
       "      County  Mean Income\n",
       "0    ALAMEDA       138489\n",
       "1     ALPINE       107737\n",
       "2     AMADOR        85184\n",
       "3      BUTTE        79233\n",
       "4  CALAVERAS        84164"
      ]
     },
     "execution_count": 42,
     "metadata": {},
     "output_type": "execute_result"
    }
   ],
   "source": [
    "mean_income['County'] = mean_income['County'].str.upper()\n",
    "mean_income['Mean Income'] = (\n",
    "    mean_income['Mean Income']\n",
    "    .str.replace(',', '', regex=False)  # Remove commas\n",
    "    .astype(int)                        # Convert to integer\n",
    ")\n",
    "\n",
    "mean_income.head()"
   ]
  },
  {
   "cell_type": "markdown",
   "id": "0ce70732",
   "metadata": {},
   "source": [
    "Merge mean income data into main dataset and case study data"
   ]
  },
  {
   "cell_type": "code",
   "execution_count": 43,
   "id": "95e691bc",
   "metadata": {},
   "outputs": [],
   "source": [
    "weather_fire_pop_income = weather_fire_pop.merge(\n",
    "    mean_income,\n",
    "    left_on='County', right_on='County',\n",
    "    how='left', indicator=True\n",
    ")\n",
    "\n",
    "pal_pop_income = pal_pop.merge(\n",
    "    mean_income,\n",
    "    left_on='County', right_on='County',\n",
    "    how='left', indicator=True\n",
    ")\n",
    "\n",
    "dixie_pop_income = dixie_pop.merge(\n",
    "    mean_income,\n",
    "    left_on='County', right_on='County',\n",
    "    how='left', indicator=True\n",
    ")"
   ]
  },
  {
   "cell_type": "code",
   "execution_count": 44,
   "id": "f69d8082",
   "metadata": {},
   "outputs": [
    {
     "name": "stdout",
     "output_type": "stream",
     "text": [
      "Main Weather Data:\n",
      "Duplicate Keys:  0\n",
      "Premerged shape:  (99717, 33)\n",
      "Merged shape:  (99717, 35)\n",
      "Duplicates after merge:  0\n",
      "NA values before merge:  0\n",
      "NA values after merge:  0\n",
      "\n",
      "Palisades Weather Data:\n",
      "Duplicate Keys:  0\n",
      "Premerged shape:  (4402, 29)\n",
      "Merged shape:  (4402, 31)\n",
      "Duplicates after merge:  0\n",
      "NA values before merge:  124\n",
      "NA values after merge:  155\n",
      "\n",
      "Dixie Weather Data:\n",
      "Duplicate Keys:  0\n",
      "Premerged shape:  (4448, 31)\n",
      "Merged shape:  (4448, 31)\n",
      "Duplicates after merge:  0\n",
      "NA values before merge:  160\n",
      "NA values after merge:  160\n"
     ]
    }
   ],
   "source": [
    "print(\"Main Weather Data:\")\n",
    "post_merge_check(weather_fire_pop_income,weather_fire_pop)\n",
    "\n",
    "print(\"\\nPalisades Weather Data:\")\n",
    "post_merge_check(pal_pop_income,pal_pop)\n",
    "\n",
    "print(\"\\nDixie Weather Data:\")\n",
    "post_merge_check(dixie_pop_income,dixie_pop_income)"
   ]
  },
  {
   "cell_type": "markdown",
   "id": "b5095cb7",
   "metadata": {},
   "source": [
    "Final Main Dataset"
   ]
  },
  {
   "cell_type": "code",
   "execution_count": 45,
   "id": "0b3b2cc6",
   "metadata": {},
   "outputs": [
    {
     "name": "stdout",
     "output_type": "stream",
     "text": [
      "<class 'pandas.core.frame.DataFrame'>\n",
      "RangeIndex: 99717 entries, 0 to 99716\n",
      "Data columns (total 35 columns):\n",
      " #   Column                Non-Null Count  Dtype         \n",
      "---  ------                --------------  -----         \n",
      " 0   Stn Id                99717 non-null  int64         \n",
      " 1   Stn Name              99717 non-null  object        \n",
      " 2   CIMIS Region          99717 non-null  object        \n",
      " 3   Date                  99717 non-null  datetime64[ns]\n",
      " 4   ETo (in)              99717 non-null  float64       \n",
      " 5   Precip (in)           99717 non-null  float64       \n",
      " 6   Sol Rad (Ly/day)      99717 non-null  float64       \n",
      " 7   Avg Vap Pres (mBars)  99717 non-null  float64       \n",
      " 8   Max Air Temp (F)      99717 non-null  float64       \n",
      " 9   Min Air Temp (F)      99717 non-null  float64       \n",
      " 10  Avg Air Temp (F)      99717 non-null  float64       \n",
      " 11  Max Rel Hum (%)       99717 non-null  float64       \n",
      " 12  Min Rel Hum (%)       99717 non-null  float64       \n",
      " 13  Avg Rel Hum (%)       99717 non-null  float64       \n",
      " 14  Dew Point (F)         99717 non-null  float64       \n",
      " 15  Avg Wind Speed (mph)  99717 non-null  float64       \n",
      " 16  Wind Run (miles)      99717 non-null  float64       \n",
      " 17  Avg Soil Temp (F)     99717 non-null  float64       \n",
      " 18  OBJECTID              99717 non-null  int64         \n",
      " 19  County                99717 non-null  object        \n",
      " 20  Latitude              99717 non-null  float64       \n",
      " 21  Longitude             99717 non-null  float64       \n",
      " 22  Elevation             99717 non-null  int64         \n",
      " 23  Total                 99717 non-null  float64       \n",
      " 24  Dest.                 99717 non-null  float64       \n",
      " 25  Dam.                  99717 non-null  float64       \n",
      " 26  Fire                  99717 non-null  float64       \n",
      " 27  Civil                 99717 non-null  float64       \n",
      " 28  Days                  99717 non-null  float64       \n",
      " 29  Total Population      99717 non-null  int64         \n",
      " 30  Size (square miles)   99717 non-null  float64       \n",
      " 31  density               99717 non-null  float64       \n",
      " 32  class                 99717 non-null  object        \n",
      " 33  Mean Income           99717 non-null  int32         \n",
      " 34  _merge                99717 non-null  category      \n",
      "dtypes: category(1), datetime64[ns](1), float64(24), int32(1), int64(4), object(4)\n",
      "memory usage: 25.6+ MB\n"
     ]
    }
   ],
   "source": [
    "weather_fire_pop_income.info()"
   ]
  },
  {
   "cell_type": "markdown",
   "id": "923d6a68",
   "metadata": {},
   "source": [
    "---"
   ]
  },
  {
   "cell_type": "markdown",
   "id": "96a77dd6",
   "metadata": {},
   "source": [
    "## 4. Export to file"
   ]
  },
  {
   "cell_type": "code",
   "execution_count": 46,
   "id": "fdd34459",
   "metadata": {},
   "outputs": [
    {
     "name": "stdout",
     "output_type": "stream",
     "text": [
      "All datasets saved successfully to ../data/processed/\n"
     ]
    }
   ],
   "source": [
    "# Create processed directory if it doesn't exist\n",
    "os.makedirs(\"../data/processed\", exist_ok=True)\n",
    "\n",
    "# Save merged and cleaned weather + fire dataset\n",
    "weather_fire_pop_income.to_csv(\"../data/processed/merged_weather_fire.csv\", index=False)\n",
    "\n",
    "# Save Palisades weather test data\n",
    "pal_pop_income.to_csv(\"../data/processed/palisades_weather.csv\", index=False)\n",
    "\n",
    "# Save Dixie Fire weather test data\n",
    "dixie_pop_income.to_csv(\"../data/processed/dixie_weather.csv\", index=False)\n",
    "\n",
    "print(\"All datasets saved successfully to ../data/processed/\")"
   ]
  }
 ],
 "metadata": {
  "hide_input": false,
  "kernelspec": {
   "display_name": "Python 3 (ipykernel)",
   "language": "python",
   "name": "python3"
  },
  "language_info": {
   "codemirror_mode": {
    "name": "ipython",
    "version": 3
   },
   "file_extension": ".py",
   "mimetype": "text/x-python",
   "name": "python",
   "nbconvert_exporter": "python",
   "pygments_lexer": "ipython3",
   "version": "3.11.10"
  }
 },
 "nbformat": 4,
 "nbformat_minor": 5
}
